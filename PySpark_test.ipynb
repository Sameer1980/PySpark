{
  "nbformat": 4,
  "nbformat_minor": 0,
  "metadata": {
    "colab": {
      "provenance": []
    },
    "kernelspec": {
      "name": "python3",
      "display_name": "Python 3"
    },
    "language_info": {
      "name": "python"
    }
  },
  "cells": [
    {
      "cell_type": "code",
      "source": [
        "from pyspark import SparkContext,SparkConf"
      ],
      "metadata": {
        "id": "6Z2dzhwWWCY_"
      },
      "execution_count": null,
      "outputs": []
    },
    {
      "cell_type": "code",
      "source": [
        "# Initializing Spark"
      ],
      "metadata": {
        "id": "WV3aWe-eYhC2"
      },
      "execution_count": null,
      "outputs": []
    },
    {
      "cell_type": "markdown",
      "source": [],
      "metadata": {
        "id": "X4UJyfhTXuMG"
      }
    },
    {
      "cell_type": "code",
      "source": [
        "conf=SparkConf().setAppName(\"testApp1\").setMaster(\"local[*]\")\n",
        "sc=SparkContext(conf=conf)"
      ],
      "metadata": {
        "id": "DIlDY9-yXS22"
      },
      "execution_count": null,
      "outputs": []
    },
    {
      "cell_type": "code",
      "source": [
        "print (sc)"
      ],
      "metadata": {
        "colab": {
          "base_uri": "https://localhost:8080/"
        },
        "id": "l4QPHdVXb48Y",
        "outputId": "03ea089d-4e16-479a-bf4a-10e12d03f4c9"
      },
      "execution_count": null,
      "outputs": [
        {
          "output_type": "stream",
          "name": "stdout",
          "text": [
            "<SparkContext master=local[*] appName=testApp1>\n"
          ]
        }
      ]
    },
    {
      "cell_type": "code",
      "source": [
        "sc.defaultParallelism"
      ],
      "metadata": {
        "id": "eRIz_j_CXusw",
        "colab": {
          "base_uri": "https://localhost:8080/"
        },
        "outputId": "b03d1f77-5be3-4654-a1f8-e2357586aefc"
      },
      "execution_count": null,
      "outputs": [
        {
          "output_type": "execute_result",
          "data": {
            "text/plain": [
              "2"
            ]
          },
          "metadata": {},
          "execution_count": 4
        }
      ]
    },
    {
      "cell_type": "code",
      "source": [
        "#Generate random data\n",
        "import random\n",
        "randomlist=random.sample(range(0,40),10)\n",
        "print (randomlist)"
      ],
      "metadata": {
        "colab": {
          "base_uri": "https://localhost:8080/"
        },
        "id": "l3rUdYDSjfiP",
        "outputId": "2b8a9450-2ef1-48b6-bd3c-273c1909ff75"
      },
      "execution_count": null,
      "outputs": [
        {
          "output_type": "stream",
          "name": "stdout",
          "text": [
            "[33, 28, 20, 19, 12, 24, 15, 21, 0, 29]\n"
          ]
        }
      ]
    },
    {
      "cell_type": "code",
      "source": [
        "#Create RDD\n",
        "rdd1=sc.parallelize(randomlist,4)\n",
        "rdd1.collect()"
      ],
      "metadata": {
        "colab": {
          "base_uri": "https://localhost:8080/"
        },
        "id": "IaZaKDcbj7R2",
        "outputId": "509b43d0-496b-4957-aec5-804e8e97b4d6"
      },
      "execution_count": null,
      "outputs": [
        {
          "output_type": "execute_result",
          "data": {
            "text/plain": [
              "[33, 28, 20, 19, 12, 24, 15, 21, 0, 29]"
            ]
          },
          "metadata": {},
          "execution_count": 7
        }
      ]
    },
    {
      "cell_type": "code",
      "source": [
        "#Data distribution in partitions.\n",
        "print (\"No. of partitions: \",rdd1.getNumPartitions())\n",
        "print (\"Distribution of partitions:\",rdd1.glom().collect())\n",
        "print (\"The two partitions:\",rdd1.glom().take(2))"
      ],
      "metadata": {
        "colab": {
          "base_uri": "https://localhost:8080/"
        },
        "id": "xI_iwso0nH7F",
        "outputId": "0f399473-b958-4743-d353-b27800a3921f"
      },
      "execution_count": null,
      "outputs": [
        {
          "output_type": "stream",
          "name": "stdout",
          "text": [
            "No. of partitions:  4\n",
            "Distribution of partitions: [[33, 28], [20, 19], [12, 24], [15, 21, 0, 29]]\n",
            "The two partitions: [[33, 28], [20, 19]]\n"
          ]
        }
      ]
    },
    {
      "cell_type": "code",
      "source": [
        "#Print last partition\n",
        "rdd1.glom().collect()[3]\n"
      ],
      "metadata": {
        "colab": {
          "base_uri": "https://localhost:8080/"
        },
        "id": "vQbjz2D3qb3m",
        "outputId": "54443bbe-a3ac-4eee-908d-052a0c6f3fab"
      },
      "execution_count": null,
      "outputs": [
        {
          "output_type": "execute_result",
          "data": {
            "text/plain": [
              "[15, 21, 0, 29]"
            ]
          },
          "metadata": {},
          "execution_count": 12
        }
      ]
    },
    {
      "cell_type": "code",
      "source": [
        "#count()\n",
        "rdd1.count()"
      ],
      "metadata": {
        "colab": {
          "base_uri": "https://localhost:8080/"
        },
        "id": "gK9KfJEgsqXJ",
        "outputId": "b8a844f0-cace-43f0-9844-2c05ead880de"
      },
      "execution_count": null,
      "outputs": [
        {
          "output_type": "execute_result",
          "data": {
            "text/plain": [
              "10"
            ]
          },
          "metadata": {},
          "execution_count": 13
        }
      ]
    },
    {
      "cell_type": "code",
      "source": [
        "#first()\n",
        "rdd1.first()"
      ],
      "metadata": {
        "colab": {
          "base_uri": "https://localhost:8080/"
        },
        "id": "cSuERqTItA5B",
        "outputId": "6dc712ca-a6d1-42b9-9c17-548a7c3ecb28"
      },
      "execution_count": null,
      "outputs": [
        {
          "output_type": "execute_result",
          "data": {
            "text/plain": [
              "33"
            ]
          },
          "metadata": {},
          "execution_count": 14
        }
      ]
    },
    {
      "cell_type": "code",
      "source": [
        "#top()\n",
        "rdd1.top(2)"
      ],
      "metadata": {
        "colab": {
          "base_uri": "https://localhost:8080/"
        },
        "id": "ZVsC30qttMjO",
        "outputId": "2a407af4-fc1d-470e-8916-84e817ee1f3e"
      },
      "execution_count": null,
      "outputs": [
        {
          "output_type": "execute_result",
          "data": {
            "text/plain": [
              "[33, 29]"
            ]
          },
          "metadata": {},
          "execution_count": 15
        }
      ]
    },
    {
      "cell_type": "code",
      "source": [
        "#distinct()\n",
        "rdd1.distinct().collect()"
      ],
      "metadata": {
        "colab": {
          "base_uri": "https://localhost:8080/"
        },
        "id": "wjxR-9QVtM7S",
        "outputId": "77f632f5-21a4-431e-a605-c776774c7bdd"
      },
      "execution_count": null,
      "outputs": [
        {
          "output_type": "execute_result",
          "data": {
            "text/plain": [
              "[28, 20, 12, 24, 0, 33, 21, 29, 19, 15]"
            ]
          },
          "metadata": {},
          "execution_count": 16
        }
      ]
    },
    {
      "cell_type": "code",
      "source": [
        "def myfunc(item):\n",
        "  return(item + 1) * 3"
      ],
      "metadata": {
        "id": "GM6MU0y5v4Q8"
      },
      "execution_count": null,
      "outputs": []
    },
    {
      "cell_type": "code",
      "source": [
        "#map()\n",
        "rdd_map=rdd1.map(myfunc)\n",
        "rdd_map.collect()"
      ],
      "metadata": {
        "colab": {
          "base_uri": "https://localhost:8080/"
        },
        "id": "dvW5jtIsv44_",
        "outputId": "7a6069d2-2cee-4f9c-8b74-f20e73693622"
      },
      "execution_count": null,
      "outputs": [
        {
          "output_type": "execute_result",
          "data": {
            "text/plain": [
              "[42, 60, 72, 15, 78, 54, 105, 111, 9, 96]"
            ]
          },
          "metadata": {},
          "execution_count": 14
        }
      ]
    },
    {
      "cell_type": "code",
      "source": [
        "rdd_map.glom().collect()"
      ],
      "metadata": {
        "colab": {
          "base_uri": "https://localhost:8080/"
        },
        "id": "pjt-JMdOv5SP",
        "outputId": "e96ef7f1-c9f1-4535-99e4-a0c9b4de2d03"
      },
      "execution_count": null,
      "outputs": [
        {
          "output_type": "execute_result",
          "data": {
            "text/plain": [
              "[[42, 60], [72, 15], [78, 54], [105, 111, 9, 96]]"
            ]
          },
          "metadata": {},
          "execution_count": 15
        }
      ]
    },
    {
      "cell_type": "code",
      "source": [
        "rdd_map=rdd1.map(lambda item:(item + 1) * 3)"
      ],
      "metadata": {
        "id": "oNmKdAXKv6Ch"
      },
      "execution_count": null,
      "outputs": []
    },
    {
      "cell_type": "code",
      "source": [
        "rdd_map.glom().collect()"
      ],
      "metadata": {
        "colab": {
          "base_uri": "https://localhost:8080/"
        },
        "id": "VZLLeMqPyc0P",
        "outputId": "c561a9cf-48bc-4cca-fc80-56267bd258bf"
      },
      "execution_count": null,
      "outputs": [
        {
          "output_type": "execute_result",
          "data": {
            "text/plain": [
              "[[42, 60], [72, 15], [78, 54], [105, 111, 9, 96]]"
            ]
          },
          "metadata": {},
          "execution_count": 17
        }
      ]
    },
    {
      "cell_type": "code",
      "source": [
        "#filter()\n",
        "rdd_filter=rdd1.filter(lambda x: x%3==0)\n",
        "print (type(rdd_filter))\n",
        "rdd_filter.collect()\n"
      ],
      "metadata": {
        "colab": {
          "base_uri": "https://localhost:8080/"
        },
        "id": "qVTRmpjpydD0",
        "outputId": "2205da49-42c4-46cf-b728-87a6375a7e9f"
      },
      "execution_count": null,
      "outputs": [
        {
          "output_type": "stream",
          "name": "stdout",
          "text": [
            "<class 'pyspark.rdd.PipelinedRDD'>\n"
          ]
        },
        {
          "output_type": "execute_result",
          "data": {
            "text/plain": [
              "[36]"
            ]
          },
          "metadata": {},
          "execution_count": 18
        }
      ]
    },
    {
      "cell_type": "code",
      "source": [
        "rdd_filter.glom().collect()"
      ],
      "metadata": {
        "id": "lmFO3ZgG0r32",
        "outputId": "bacb1695-1916-4475-c52c-9f736539c8f2",
        "colab": {
          "base_uri": "https://localhost:8080/"
        }
      },
      "execution_count": null,
      "outputs": [
        {
          "output_type": "execute_result",
          "data": {
            "text/plain": [
              "[[], [], [], [36]]"
            ]
          },
          "metadata": {},
          "execution_count": 20
        }
      ]
    },
    {
      "cell_type": "code",
      "source": [
        "#flatmap()\n",
        "rdd_flatmap=rdd1.flatMap(lambda x: [x + 2, x + 5])\n",
        "rdd_flatmap.collect()\n",
        "rdd_flatmap.glom().collect()\n",
        "rdd_flatmap.reduce(lambda x,y: x + y)"
      ],
      "metadata": {
        "id": "ygXkfksY0sS7",
        "colab": {
          "base_uri": "https://localhost:8080/"
        },
        "outputId": "32e9a5eb-c222-4914-b155-574233c35950"
      },
      "execution_count": null,
      "outputs": [
        {
          "output_type": "execute_result",
          "data": {
            "text/plain": [
              "478"
            ]
          },
          "metadata": {},
          "execution_count": 19
        }
      ]
    },
    {
      "cell_type": "code",
      "source": [
        "#Descriptive Statistics\n",
        "print (\"Maximum value\", rdd1.max())\n",
        "print (\"Minimum value\", rdd1.min())\n",
        "print (\"Average value\", rdd1.mean())\n",
        "print (\"Total value\", rdd1.sum())\n",
        "print (\"Standard deviation value\", round(rdd1.stdev(),2))"
      ],
      "metadata": {
        "colab": {
          "base_uri": "https://localhost:8080/"
        },
        "id": "hj4dIwkRPvlh",
        "outputId": "e604b5dd-3b7c-48f4-9a72-b5bce9158fcf"
      },
      "execution_count": null,
      "outputs": [
        {
          "output_type": "stream",
          "name": "stdout",
          "text": [
            "Maximum value 36\n",
            "Minimum value 2\n",
            "Average value 20.4\n",
            "Total value 204\n",
            "Standard deviation value 11.16\n"
          ]
        }
      ]
    },
    {
      "cell_type": "code",
      "source": [
        "#mapPartitions()\n",
        "def myfunc(partition):\n",
        "  sum=0\n",
        "  for item in partition:\n",
        "    sum=sum + item\n",
        "  yield sum\n",
        "\n",
        "rdd1.mapPartitions(myfunc).collect()"
      ],
      "metadata": {
        "colab": {
          "base_uri": "https://localhost:8080/"
        },
        "id": "9zS90ec-PwG7",
        "outputId": "026f2f7d-ac58-440d-f7fd-399eb113afc6"
      },
      "execution_count": null,
      "outputs": [
        {
          "output_type": "execute_result",
          "data": {
            "text/plain": [
              "[35, 63, 35, 97]"
            ]
          },
          "metadata": {},
          "execution_count": 27
        }
      ]
    },
    {
      "cell_type": "code",
      "source": [
        "# Create RDD:\n",
        "rdd1 = sc.parallelize([7, 30, 36, 29, 20, 18, 9, 2, 23, 38], 4)\n",
        "rdd1.collect()"
      ],
      "metadata": {
        "colab": {
          "base_uri": "https://localhost:8080/"
        },
        "id": "VnYs-FC9PwkP",
        "outputId": "77793096-f9c3-4b46-c298-95fbecbdb96f"
      },
      "execution_count": null,
      "outputs": [
        {
          "output_type": "execute_result",
          "data": {
            "text/plain": [
              "[7, 30, 36, 29, 20, 18, 9, 2, 23, 38]"
            ]
          },
          "metadata": {},
          "execution_count": 28
        }
      ]
    },
    {
      "cell_type": "code",
      "source": [
        "# Define a function to double each element using map()\n",
        "def double(x):\n",
        "    return x * 2\n"
      ],
      "metadata": {
        "id": "6xFW4ECePw9z"
      },
      "execution_count": null,
      "outputs": []
    },
    {
      "cell_type": "code",
      "source": [
        "# Apply map() transformation\n",
        "map_result_rdd = rdd1.map(double)"
      ],
      "metadata": {
        "id": "eFJXg0p6vQNA"
      },
      "execution_count": null,
      "outputs": []
    },
    {
      "cell_type": "code",
      "source": [
        "# Define a function to double each element using mapPartitions()\n",
        "def double_partition(partition):\n",
        "    sum = 0\n",
        "    for item in partition:\n",
        "      sum = sum + (item * 2)\n",
        "    yield sum"
      ],
      "metadata": {
        "id": "gqi3FKISvYQV"
      },
      "execution_count": null,
      "outputs": []
    },
    {
      "cell_type": "code",
      "source": [
        "# Apply mapPartitions() transformation\n",
        "mappartitions_result_rdd = rdd1.mapPartitions(double_partition)"
      ],
      "metadata": {
        "id": "eZ8Vwmrivmp3"
      },
      "execution_count": null,
      "outputs": []
    },
    {
      "cell_type": "code",
      "source": [
        "# Print the results\n",
        "print(\"RDD with partitions: \", rdd1.glom().collect())\n",
        "print(\"Map Result: \", map_result_rdd.glom().collect())\n",
        "print(\"MapPartitions Result: \", mappartitions_result_rdd.glom().collect())\n"
      ],
      "metadata": {
        "colab": {
          "base_uri": "https://localhost:8080/"
        },
        "id": "8WlgaqK5wGk2",
        "outputId": "268469f2-2ad0-4aaa-d2c4-fcc561426423"
      },
      "execution_count": null,
      "outputs": [
        {
          "output_type": "stream",
          "name": "stdout",
          "text": [
            "RDD with partitions:  [[7, 30], [36, 29], [20, 18], [9, 2, 23, 38]]\n",
            "Map Result:  [[14, 60], [72, 58], [40, 36], [18, 4, 46, 76]]\n",
            "MapPartitions Result:  [[74], [130], [76], [144]]\n"
          ]
        }
      ]
    },
    {
      "cell_type": "code",
      "source": [
        "#Union()\n",
        "print (rdd1.collect())\n",
        "rdd2=sc.parallelize([2,14,20,20,28,9,13,3],2)\n",
        "print (rdd2.collect())\n",
        "\n",
        "rdd_union=rdd1.union(rdd2)\n",
        "print (rdd_union.collect())\n",
        "# RDD1 with 4 partitions and RDD2 with 2 partitions . Total 6 partitions\n",
        "print (rdd_union.getNumPartitions())"
      ],
      "metadata": {
        "colab": {
          "base_uri": "https://localhost:8080/"
        },
        "id": "lo-Z_CZUwG0P",
        "outputId": "22f4ab06-14a0-4f05-d581-0c4677b9b060"
      },
      "execution_count": null,
      "outputs": [
        {
          "output_type": "stream",
          "name": "stdout",
          "text": [
            "[7, 30, 36, 29, 20, 18, 9, 2, 23, 38]\n",
            "[2, 14, 20, 20, 28, 9, 13, 3]\n",
            "[7, 30, 36, 29, 20, 18, 9, 2, 23, 38, 2, 14, 20, 20, 28, 9, 13, 3]\n",
            "6\n"
          ]
        }
      ]
    },
    {
      "cell_type": "code",
      "source": [
        "#Intersection()\n",
        "rdd_intersection=rdd1.intersection(rdd2)\n",
        "print (rdd1.intersection(rdd2).collect())\n",
        "print(rdd1.intersection(rdd2).getNumPartitions())\n",
        "\n",
        "rdd_intersection.glom().collect()"
      ],
      "metadata": {
        "colab": {
          "base_uri": "https://localhost:8080/"
        },
        "id": "dS3K3Xx3xyz3",
        "outputId": "c837901d-1eac-4f62-b5fd-b0195e2a51ed"
      },
      "execution_count": null,
      "outputs": [
        {
          "output_type": "stream",
          "name": "stdout",
          "text": [
            "[20, 2, 9]\n",
            "6\n"
          ]
        },
        {
          "output_type": "execute_result",
          "data": {
            "text/plain": [
              "[[], [], [20, 2], [9], [], []]"
            ]
          },
          "metadata": {},
          "execution_count": 35
        }
      ]
    },
    {
      "cell_type": "code",
      "source": [
        "#Find empty partitions\n",
        "\n",
        "counter=0\n",
        "for item in rdd_intersection.glom().collect():\n",
        "  if len(item)==0:\n",
        "    counter = counter + 1\n",
        "print (counter)\n"
      ],
      "metadata": {
        "colab": {
          "base_uri": "https://localhost:8080/"
        },
        "id": "SUFmJpqmx3Ut",
        "outputId": "1702c564-0866-4a43-d728-26117b56e747"
      },
      "execution_count": null,
      "outputs": [
        {
          "output_type": "stream",
          "name": "stdout",
          "text": [
            "4\n"
          ]
        }
      ]
    },
    {
      "cell_type": "code",
      "source": [
        "#coalesce(numPartitions) -- To reduce the number of partitions\n",
        "rdd_intersection.coalesce(1).glom().collect()\n"
      ],
      "metadata": {
        "colab": {
          "base_uri": "https://localhost:8080/"
        },
        "id": "GRG7G-Xcx3nE",
        "outputId": "cde8d068-4dce-4968-c3a0-8eae3b87b890"
      },
      "execution_count": null,
      "outputs": [
        {
          "output_type": "execute_result",
          "data": {
            "text/plain": [
              "[[20, 2, 9]]"
            ]
          },
          "metadata": {},
          "execution_count": 37
        }
      ]
    },
    {
      "cell_type": "code",
      "source": [
        "#takesample (withReplacement,num,[seed])\n",
        "rdd1.takeSample(False,5)"
      ],
      "metadata": {
        "colab": {
          "base_uri": "https://localhost:8080/"
        },
        "id": "nRW06dx3x3y9",
        "outputId": "6c0231d9-1477-42db-ded3-7a070f770e63"
      },
      "execution_count": null,
      "outputs": [
        {
          "output_type": "execute_result",
          "data": {
            "text/plain": [
              "[9, 20, 29, 2, 7]"
            ]
          },
          "metadata": {},
          "execution_count": 36
        }
      ]
    },
    {
      "cell_type": "code",
      "source": [
        "#takeOrdered(n,[ordering])\n",
        "print (rdd1.takeOrdered(5))\n",
        "print (rdd1.takeOrdered(5, key=lambda x: -x))"
      ],
      "metadata": {
        "colab": {
          "base_uri": "https://localhost:8080/"
        },
        "id": "VhvYTK6Z8gxc",
        "outputId": "291e109e-29c5-4ccf-f805-21b95fe9c6b4"
      },
      "execution_count": null,
      "outputs": [
        {
          "output_type": "stream",
          "name": "stdout",
          "text": [
            "[2, 7, 9, 18, 20]\n",
            "[38, 36, 30, 29, 23]\n"
          ]
        }
      ]
    },
    {
      "cell_type": "code",
      "source": [
        "#reduce()\n",
        "rdd1.reduce (lambda x,y: x *y)"
      ],
      "metadata": {
        "colab": {
          "base_uri": "https://localhost:8080/"
        },
        "id": "L6GyYEcP8hbo",
        "outputId": "6be654fc-b8c3-4d03-d2f1-52f960513953"
      },
      "execution_count": null,
      "outputs": [
        {
          "output_type": "execute_result",
          "data": {
            "text/plain": [
              "732903537600"
            ]
          },
          "metadata": {},
          "execution_count": 22
        }
      ]
    },
    {
      "cell_type": "code",
      "source": [
        "#reduceByKey()\n",
        "rdd_rbk=sc.parallelize([(1,4),(7,10),(5,7),(1,12),(7,12),(7,1),(9,1),(7,4)],2)\n",
        "print (rdd_rbk.glom().collect())\n",
        "print (rdd_rbk.reduceByKey(lambda x,y: x + y).collect())\n",
        "\n",
        "#User friendly visualization.\n",
        "import pandas as pd\n",
        "Counter = pd.DataFrame({'key': rdd_rbk.keys().collect(),\n",
        "                        'values': rdd_rbk.values().collect()})\n",
        "Counter"
      ],
      "metadata": {
        "colab": {
          "base_uri": "https://localhost:8080/",
          "height": 335
        },
        "id": "Q_49NX0kx38o",
        "outputId": "3067c696-0251-40a0-de05-fde28746c5da"
      },
      "execution_count": null,
      "outputs": [
        {
          "output_type": "stream",
          "name": "stdout",
          "text": [
            "[[(1, 4), (7, 10), (5, 7), (1, 12)], [(7, 12), (7, 1), (9, 1), (7, 4)]]\n",
            "[(1, 16), (7, 27), (5, 7), (9, 1)]\n"
          ]
        },
        {
          "output_type": "execute_result",
          "data": {
            "text/plain": [
              "   key  values\n",
              "0    1       4\n",
              "1    7      10\n",
              "2    5       7\n",
              "3    1      12\n",
              "4    7      12\n",
              "5    7       1\n",
              "6    9       1\n",
              "7    7       4"
            ],
            "text/html": [
              "\n",
              "  <div id=\"df-f7d5ad24-eb25-4e6d-ab4c-55bf7360b6e3\" class=\"colab-df-container\">\n",
              "    <div>\n",
              "<style scoped>\n",
              "    .dataframe tbody tr th:only-of-type {\n",
              "        vertical-align: middle;\n",
              "    }\n",
              "\n",
              "    .dataframe tbody tr th {\n",
              "        vertical-align: top;\n",
              "    }\n",
              "\n",
              "    .dataframe thead th {\n",
              "        text-align: right;\n",
              "    }\n",
              "</style>\n",
              "<table border=\"1\" class=\"dataframe\">\n",
              "  <thead>\n",
              "    <tr style=\"text-align: right;\">\n",
              "      <th></th>\n",
              "      <th>key</th>\n",
              "      <th>values</th>\n",
              "    </tr>\n",
              "  </thead>\n",
              "  <tbody>\n",
              "    <tr>\n",
              "      <th>0</th>\n",
              "      <td>1</td>\n",
              "      <td>4</td>\n",
              "    </tr>\n",
              "    <tr>\n",
              "      <th>1</th>\n",
              "      <td>7</td>\n",
              "      <td>10</td>\n",
              "    </tr>\n",
              "    <tr>\n",
              "      <th>2</th>\n",
              "      <td>5</td>\n",
              "      <td>7</td>\n",
              "    </tr>\n",
              "    <tr>\n",
              "      <th>3</th>\n",
              "      <td>1</td>\n",
              "      <td>12</td>\n",
              "    </tr>\n",
              "    <tr>\n",
              "      <th>4</th>\n",
              "      <td>7</td>\n",
              "      <td>12</td>\n",
              "    </tr>\n",
              "    <tr>\n",
              "      <th>5</th>\n",
              "      <td>7</td>\n",
              "      <td>1</td>\n",
              "    </tr>\n",
              "    <tr>\n",
              "      <th>6</th>\n",
              "      <td>9</td>\n",
              "      <td>1</td>\n",
              "    </tr>\n",
              "    <tr>\n",
              "      <th>7</th>\n",
              "      <td>7</td>\n",
              "      <td>4</td>\n",
              "    </tr>\n",
              "  </tbody>\n",
              "</table>\n",
              "</div>\n",
              "    <div class=\"colab-df-buttons\">\n",
              "\n",
              "  <div class=\"colab-df-container\">\n",
              "    <button class=\"colab-df-convert\" onclick=\"convertToInteractive('df-f7d5ad24-eb25-4e6d-ab4c-55bf7360b6e3')\"\n",
              "            title=\"Convert this dataframe to an interactive table.\"\n",
              "            style=\"display:none;\">\n",
              "\n",
              "  <svg xmlns=\"http://www.w3.org/2000/svg\" height=\"24px\" viewBox=\"0 -960 960 960\">\n",
              "    <path d=\"M120-120v-720h720v720H120Zm60-500h600v-160H180v160Zm220 220h160v-160H400v160Zm0 220h160v-160H400v160ZM180-400h160v-160H180v160Zm440 0h160v-160H620v160ZM180-180h160v-160H180v160Zm440 0h160v-160H620v160Z\"/>\n",
              "  </svg>\n",
              "    </button>\n",
              "\n",
              "  <style>\n",
              "    .colab-df-container {\n",
              "      display:flex;\n",
              "      gap: 12px;\n",
              "    }\n",
              "\n",
              "    .colab-df-convert {\n",
              "      background-color: #E8F0FE;\n",
              "      border: none;\n",
              "      border-radius: 50%;\n",
              "      cursor: pointer;\n",
              "      display: none;\n",
              "      fill: #1967D2;\n",
              "      height: 32px;\n",
              "      padding: 0 0 0 0;\n",
              "      width: 32px;\n",
              "    }\n",
              "\n",
              "    .colab-df-convert:hover {\n",
              "      background-color: #E2EBFA;\n",
              "      box-shadow: 0px 1px 2px rgba(60, 64, 67, 0.3), 0px 1px 3px 1px rgba(60, 64, 67, 0.15);\n",
              "      fill: #174EA6;\n",
              "    }\n",
              "\n",
              "    .colab-df-buttons div {\n",
              "      margin-bottom: 4px;\n",
              "    }\n",
              "\n",
              "    [theme=dark] .colab-df-convert {\n",
              "      background-color: #3B4455;\n",
              "      fill: #D2E3FC;\n",
              "    }\n",
              "\n",
              "    [theme=dark] .colab-df-convert:hover {\n",
              "      background-color: #434B5C;\n",
              "      box-shadow: 0px 1px 3px 1px rgba(0, 0, 0, 0.15);\n",
              "      filter: drop-shadow(0px 1px 2px rgba(0, 0, 0, 0.3));\n",
              "      fill: #FFFFFF;\n",
              "    }\n",
              "  </style>\n",
              "\n",
              "    <script>\n",
              "      const buttonEl =\n",
              "        document.querySelector('#df-f7d5ad24-eb25-4e6d-ab4c-55bf7360b6e3 button.colab-df-convert');\n",
              "      buttonEl.style.display =\n",
              "        google.colab.kernel.accessAllowed ? 'block' : 'none';\n",
              "\n",
              "      async function convertToInteractive(key) {\n",
              "        const element = document.querySelector('#df-f7d5ad24-eb25-4e6d-ab4c-55bf7360b6e3');\n",
              "        const dataTable =\n",
              "          await google.colab.kernel.invokeFunction('convertToInteractive',\n",
              "                                                    [key], {});\n",
              "        if (!dataTable) return;\n",
              "\n",
              "        const docLinkHtml = 'Like what you see? Visit the ' +\n",
              "          '<a target=\"_blank\" href=https://colab.research.google.com/notebooks/data_table.ipynb>data table notebook</a>'\n",
              "          + ' to learn more about interactive tables.';\n",
              "        element.innerHTML = '';\n",
              "        dataTable['output_type'] = 'display_data';\n",
              "        await google.colab.output.renderOutput(dataTable, element);\n",
              "        const docLink = document.createElement('div');\n",
              "        docLink.innerHTML = docLinkHtml;\n",
              "        element.appendChild(docLink);\n",
              "      }\n",
              "    </script>\n",
              "  </div>\n",
              "\n",
              "\n",
              "<div id=\"df-906b846f-06ff-4b9d-a9b1-aba7eecb3bf4\">\n",
              "  <button class=\"colab-df-quickchart\" onclick=\"quickchart('df-906b846f-06ff-4b9d-a9b1-aba7eecb3bf4')\"\n",
              "            title=\"Suggest charts\"\n",
              "            style=\"display:none;\">\n",
              "\n",
              "<svg xmlns=\"http://www.w3.org/2000/svg\" height=\"24px\"viewBox=\"0 0 24 24\"\n",
              "     width=\"24px\">\n",
              "    <g>\n",
              "        <path d=\"M19 3H5c-1.1 0-2 .9-2 2v14c0 1.1.9 2 2 2h14c1.1 0 2-.9 2-2V5c0-1.1-.9-2-2-2zM9 17H7v-7h2v7zm4 0h-2V7h2v10zm4 0h-2v-4h2v4z\"/>\n",
              "    </g>\n",
              "</svg>\n",
              "  </button>\n",
              "\n",
              "<style>\n",
              "  .colab-df-quickchart {\n",
              "      --bg-color: #E8F0FE;\n",
              "      --fill-color: #1967D2;\n",
              "      --hover-bg-color: #E2EBFA;\n",
              "      --hover-fill-color: #174EA6;\n",
              "      --disabled-fill-color: #AAA;\n",
              "      --disabled-bg-color: #DDD;\n",
              "  }\n",
              "\n",
              "  [theme=dark] .colab-df-quickchart {\n",
              "      --bg-color: #3B4455;\n",
              "      --fill-color: #D2E3FC;\n",
              "      --hover-bg-color: #434B5C;\n",
              "      --hover-fill-color: #FFFFFF;\n",
              "      --disabled-bg-color: #3B4455;\n",
              "      --disabled-fill-color: #666;\n",
              "  }\n",
              "\n",
              "  .colab-df-quickchart {\n",
              "    background-color: var(--bg-color);\n",
              "    border: none;\n",
              "    border-radius: 50%;\n",
              "    cursor: pointer;\n",
              "    display: none;\n",
              "    fill: var(--fill-color);\n",
              "    height: 32px;\n",
              "    padding: 0;\n",
              "    width: 32px;\n",
              "  }\n",
              "\n",
              "  .colab-df-quickchart:hover {\n",
              "    background-color: var(--hover-bg-color);\n",
              "    box-shadow: 0 1px 2px rgba(60, 64, 67, 0.3), 0 1px 3px 1px rgba(60, 64, 67, 0.15);\n",
              "    fill: var(--button-hover-fill-color);\n",
              "  }\n",
              "\n",
              "  .colab-df-quickchart-complete:disabled,\n",
              "  .colab-df-quickchart-complete:disabled:hover {\n",
              "    background-color: var(--disabled-bg-color);\n",
              "    fill: var(--disabled-fill-color);\n",
              "    box-shadow: none;\n",
              "  }\n",
              "\n",
              "  .colab-df-spinner {\n",
              "    border: 2px solid var(--fill-color);\n",
              "    border-color: transparent;\n",
              "    border-bottom-color: var(--fill-color);\n",
              "    animation:\n",
              "      spin 1s steps(1) infinite;\n",
              "  }\n",
              "\n",
              "  @keyframes spin {\n",
              "    0% {\n",
              "      border-color: transparent;\n",
              "      border-bottom-color: var(--fill-color);\n",
              "      border-left-color: var(--fill-color);\n",
              "    }\n",
              "    20% {\n",
              "      border-color: transparent;\n",
              "      border-left-color: var(--fill-color);\n",
              "      border-top-color: var(--fill-color);\n",
              "    }\n",
              "    30% {\n",
              "      border-color: transparent;\n",
              "      border-left-color: var(--fill-color);\n",
              "      border-top-color: var(--fill-color);\n",
              "      border-right-color: var(--fill-color);\n",
              "    }\n",
              "    40% {\n",
              "      border-color: transparent;\n",
              "      border-right-color: var(--fill-color);\n",
              "      border-top-color: var(--fill-color);\n",
              "    }\n",
              "    60% {\n",
              "      border-color: transparent;\n",
              "      border-right-color: var(--fill-color);\n",
              "    }\n",
              "    80% {\n",
              "      border-color: transparent;\n",
              "      border-right-color: var(--fill-color);\n",
              "      border-bottom-color: var(--fill-color);\n",
              "    }\n",
              "    90% {\n",
              "      border-color: transparent;\n",
              "      border-bottom-color: var(--fill-color);\n",
              "    }\n",
              "  }\n",
              "</style>\n",
              "\n",
              "  <script>\n",
              "    async function quickchart(key) {\n",
              "      const quickchartButtonEl =\n",
              "        document.querySelector('#' + key + ' button');\n",
              "      quickchartButtonEl.disabled = true;  // To prevent multiple clicks.\n",
              "      quickchartButtonEl.classList.add('colab-df-spinner');\n",
              "      try {\n",
              "        const charts = await google.colab.kernel.invokeFunction(\n",
              "            'suggestCharts', [key], {});\n",
              "      } catch (error) {\n",
              "        console.error('Error during call to suggestCharts:', error);\n",
              "      }\n",
              "      quickchartButtonEl.classList.remove('colab-df-spinner');\n",
              "      quickchartButtonEl.classList.add('colab-df-quickchart-complete');\n",
              "    }\n",
              "    (() => {\n",
              "      let quickchartButtonEl =\n",
              "        document.querySelector('#df-906b846f-06ff-4b9d-a9b1-aba7eecb3bf4 button');\n",
              "      quickchartButtonEl.style.display =\n",
              "        google.colab.kernel.accessAllowed ? 'block' : 'none';\n",
              "    })();\n",
              "  </script>\n",
              "</div>\n",
              "\n",
              "  <div id=\"id_b849568f-8b13-4665-93ba-2e3f53673b4c\">\n",
              "    <style>\n",
              "      .colab-df-generate {\n",
              "        background-color: #E8F0FE;\n",
              "        border: none;\n",
              "        border-radius: 50%;\n",
              "        cursor: pointer;\n",
              "        display: none;\n",
              "        fill: #1967D2;\n",
              "        height: 32px;\n",
              "        padding: 0 0 0 0;\n",
              "        width: 32px;\n",
              "      }\n",
              "\n",
              "      .colab-df-generate:hover {\n",
              "        background-color: #E2EBFA;\n",
              "        box-shadow: 0px 1px 2px rgba(60, 64, 67, 0.3), 0px 1px 3px 1px rgba(60, 64, 67, 0.15);\n",
              "        fill: #174EA6;\n",
              "      }\n",
              "\n",
              "      [theme=dark] .colab-df-generate {\n",
              "        background-color: #3B4455;\n",
              "        fill: #D2E3FC;\n",
              "      }\n",
              "\n",
              "      [theme=dark] .colab-df-generate:hover {\n",
              "        background-color: #434B5C;\n",
              "        box-shadow: 0px 1px 3px 1px rgba(0, 0, 0, 0.15);\n",
              "        filter: drop-shadow(0px 1px 2px rgba(0, 0, 0, 0.3));\n",
              "        fill: #FFFFFF;\n",
              "      }\n",
              "    </style>\n",
              "    <button class=\"colab-df-generate\" onclick=\"generateWithVariable('Counter')\"\n",
              "            title=\"Generate code using this dataframe.\"\n",
              "            style=\"display:none;\">\n",
              "\n",
              "  <svg xmlns=\"http://www.w3.org/2000/svg\" height=\"24px\"viewBox=\"0 0 24 24\"\n",
              "       width=\"24px\">\n",
              "    <path d=\"M7,19H8.4L18.45,9,17,7.55,7,17.6ZM5,21V16.75L18.45,3.32a2,2,0,0,1,2.83,0l1.4,1.43a1.91,1.91,0,0,1,.58,1.4,1.91,1.91,0,0,1-.58,1.4L9.25,21ZM18.45,9,17,7.55Zm-12,3A5.31,5.31,0,0,0,4.9,8.1,5.31,5.31,0,0,0,1,6.5,5.31,5.31,0,0,0,4.9,4.9,5.31,5.31,0,0,0,6.5,1,5.31,5.31,0,0,0,8.1,4.9,5.31,5.31,0,0,0,12,6.5,5.46,5.46,0,0,0,6.5,12Z\"/>\n",
              "  </svg>\n",
              "    </button>\n",
              "    <script>\n",
              "      (() => {\n",
              "      const buttonEl =\n",
              "        document.querySelector('#id_b849568f-8b13-4665-93ba-2e3f53673b4c button.colab-df-generate');\n",
              "      buttonEl.style.display =\n",
              "        google.colab.kernel.accessAllowed ? 'block' : 'none';\n",
              "\n",
              "      buttonEl.onclick = () => {\n",
              "        google.colab.notebook.generateWithVariable('Counter');\n",
              "      }\n",
              "      })();\n",
              "    </script>\n",
              "  </div>\n",
              "\n",
              "    </div>\n",
              "  </div>\n"
            ],
            "application/vnd.google.colaboratory.intrinsic+json": {
              "type": "dataframe",
              "variable_name": "Counter",
              "summary": "{\n  \"name\": \"Counter\",\n  \"rows\": 8,\n  \"fields\": [\n    {\n      \"column\": \"key\",\n      \"properties\": {\n        \"dtype\": \"number\",\n        \"std\": 2,\n        \"min\": 1,\n        \"max\": 9,\n        \"num_unique_values\": 4,\n        \"samples\": [\n          7,\n          9,\n          1\n        ],\n        \"semantic_type\": \"\",\n        \"description\": \"\"\n      }\n    },\n    {\n      \"column\": \"values\",\n      \"properties\": {\n        \"dtype\": \"number\",\n        \"std\": 4,\n        \"min\": 1,\n        \"max\": 12,\n        \"num_unique_values\": 5,\n        \"samples\": [\n          10,\n          1,\n          7\n        ],\n        \"semantic_type\": \"\",\n        \"description\": \"\"\n      }\n    }\n  ]\n}"
            }
          },
          "metadata": {},
          "execution_count": 23
        }
      ]
    },
    {
      "cell_type": "code",
      "source": [
        "#sortByKey()\n",
        "rdd_rbk.reduceByKey(lambda x,y: x + y).sortByKey(True).collect()"
      ],
      "metadata": {
        "colab": {
          "base_uri": "https://localhost:8080/"
        },
        "id": "AmZO_bQRA05z",
        "outputId": "e5f4e8e4-29f7-4ac8-b623-15d30c71ba26"
      },
      "execution_count": null,
      "outputs": [
        {
          "output_type": "execute_result",
          "data": {
            "text/plain": [
              "[(1, 16), (5, 7), (7, 27), (9, 1)]"
            ]
          },
          "metadata": {},
          "execution_count": 24
        }
      ]
    },
    {
      "cell_type": "code",
      "source": [
        "#countByKey()\n",
        "rdd_rbk.countByKey()\n",
        "\n",
        "# Can also use sorted() Python method.\n",
        "sorted(rdd_rbk.countByKey().items())"
      ],
      "metadata": {
        "colab": {
          "base_uri": "https://localhost:8080/"
        },
        "id": "0y-bPH_fA1ZX",
        "outputId": "ada6a127-b434-43f9-9023-d940b52e4191"
      },
      "execution_count": null,
      "outputs": [
        {
          "output_type": "execute_result",
          "data": {
            "text/plain": [
              "[(1, 2), (5, 1), (7, 4), (9, 1)]"
            ]
          },
          "metadata": {},
          "execution_count": 27
        }
      ]
    },
    {
      "cell_type": "code",
      "source": [
        "#groupByKey()\n",
        "\n",
        "rdd_group=rdd_rbk.groupByKey()\n",
        "rdd_group.getNumPartitions()\n",
        "\n",
        "rdd_group.collect()\n",
        "\n",
        "for item in rdd_group.collect():\n",
        "  print (item[0],[values for values in item[1]])"
      ],
      "metadata": {
        "id": "RozWbV9GA1yt",
        "colab": {
          "base_uri": "https://localhost:8080/"
        },
        "outputId": "96c5a0d4-dd68-42dd-89e0-24b1c905171e"
      },
      "execution_count": null,
      "outputs": [
        {
          "output_type": "stream",
          "name": "stdout",
          "text": [
            "1 [4, 12]\n",
            "7 [10, 12, 1, 4]\n",
            "5 [7]\n",
            "9 [1]\n"
          ]
        }
      ]
    },
    {
      "cell_type": "code",
      "source": [
        "#lookupByKey()\n",
        "rdd_rbk.lookup(7)"
      ],
      "metadata": {
        "id": "K7uGrIh1A2H7",
        "colab": {
          "base_uri": "https://localhost:8080/"
        },
        "outputId": "07462f5c-59ea-49ac-cb8e-a581d519490e"
      },
      "execution_count": null,
      "outputs": [
        {
          "output_type": "execute_result",
          "data": {
            "text/plain": [
              "[10, 12, 1, 4]"
            ]
          },
          "metadata": {},
          "execution_count": 29
        }
      ]
    },
    {
      "cell_type": "code",
      "source": [
        "#cache\n",
        "rdd_rbk.persist()"
      ],
      "metadata": {
        "colab": {
          "base_uri": "https://localhost:8080/"
        },
        "id": "gmgqU7Pwbdq_",
        "outputId": "a5a7a31c-eb5e-4206-c24b-28413ebfcf12"
      },
      "execution_count": null,
      "outputs": [
        {
          "output_type": "execute_result",
          "data": {
            "text/plain": [
              "ParallelCollectionRDD[27] at readRDDFromFile at PythonRDD.scala:289"
            ]
          },
          "metadata": {},
          "execution_count": 30
        }
      ]
    },
    {
      "cell_type": "code",
      "source": [
        "#Persistence (https://spark.apache.org/docs/latest/rdd-programming-guide.html#rdd-persistence)\n",
        "from pyspark import StorageLevel\n",
        "rdd1.persist(StorageLevel.MEMORY_AND_DISK)"
      ],
      "metadata": {
        "colab": {
          "base_uri": "https://localhost:8080/"
        },
        "id": "QYFpE6Q4beAl",
        "outputId": "7ca02e3c-97fd-4bfe-d23b-a72d93acc605"
      },
      "execution_count": null,
      "outputs": [
        {
          "output_type": "execute_result",
          "data": {
            "text/plain": [
              "ParallelCollectionRDD[0] at readRDDFromFile at PythonRDD.scala:289"
            ]
          },
          "metadata": {},
          "execution_count": 31
        }
      ]
    },
    {
      "cell_type": "code",
      "source": [
        "# PySpark with DF or DataFrames or Relational Databases"
      ],
      "metadata": {
        "id": "GmmotbWzh43A"
      },
      "execution_count": null,
      "outputs": []
    },
    {
      "cell_type": "code",
      "source": [
        "!pip install pyspark"
      ],
      "metadata": {
        "colab": {
          "base_uri": "https://localhost:8080/"
        },
        "id": "Yo_ibgl7h5Pe",
        "outputId": "1cf8a465-ad2a-4cc1-a664-1b5257d400f2"
      },
      "execution_count": null,
      "outputs": [
        {
          "output_type": "stream",
          "name": "stdout",
          "text": [
            "Requirement already satisfied: pyspark in /usr/local/lib/python3.10/dist-packages (3.5.3)\n",
            "Requirement already satisfied: py4j==0.10.9.7 in /usr/local/lib/python3.10/dist-packages (from pyspark) (0.10.9.7)\n"
          ]
        }
      ]
    },
    {
      "cell_type": "code",
      "source": [
        "import pyspark\n",
        "from pyspark.sql import SparkSession\n",
        "\n",
        "spark=SparkSession.builder.getOrCreate()\n",
        "spark"
      ],
      "metadata": {
        "colab": {
          "base_uri": "https://localhost:8080/",
          "height": 219
        },
        "id": "6fYoKzmph5Ym",
        "outputId": "2cc719fd-89ec-4b58-9b21-7649dad15364"
      },
      "execution_count": null,
      "outputs": [
        {
          "output_type": "execute_result",
          "data": {
            "text/plain": [
              "<pyspark.sql.session.SparkSession at 0x7d1fda461780>"
            ],
            "text/html": [
              "\n",
              "            <div>\n",
              "                <p><b>SparkSession - in-memory</b></p>\n",
              "                \n",
              "        <div>\n",
              "            <p><b>SparkContext</b></p>\n",
              "\n",
              "            <p><a href=\"http://28c6b3f97ed8:4040\">Spark UI</a></p>\n",
              "\n",
              "            <dl>\n",
              "              <dt>Version</dt>\n",
              "                <dd><code>v3.5.3</code></dd>\n",
              "              <dt>Master</dt>\n",
              "                <dd><code>local[*]</code></dd>\n",
              "              <dt>AppName</dt>\n",
              "                <dd><code>testApp1</code></dd>\n",
              "            </dl>\n",
              "        </div>\n",
              "        \n",
              "            </div>\n",
              "        "
            ]
          },
          "metadata": {},
          "execution_count": 34
        }
      ]
    },
    {
      "cell_type": "code",
      "source": [
        "# CREATE DF AND BASIC OPERATIONS.\n",
        "df1=spark.read.format(\"csv\").load(\"/content/sample_data/CompleteDataset.csv\", inferSchema=True, header=True)"
      ],
      "metadata": {
        "id": "nypHtZQbh5gc"
      },
      "execution_count": null,
      "outputs": []
    },
    {
      "cell_type": "code",
      "source": [
        "#Show Data:\n",
        "df1.show()"
      ],
      "metadata": {
        "colab": {
          "base_uri": "https://localhost:8080/"
        },
        "id": "x5bk4Z9yFLpB",
        "outputId": "c136b621-8f07-42f3-801f-9e0e26452186"
      },
      "execution_count": null,
      "outputs": [
        {
          "output_type": "stream",
          "name": "stdout",
          "text": [
            "+---+-----------------+---+--------------------+-----------+--------------------+-------+---------+-------------------+--------------------+------+-----+-------+------------+----------+-------+-------+------------+---------+--------+-----+---------+---------+------------------+---------+-----------+----------+--------------+-----------+----------------+-------------+-------+------------+----------+-------+---------+-----------+---------+-------------+----------+--------------+------------+-------+---------------+--------+------+-------+----+----+----+----+----+------+----+----+----+----+----+----+----+----+----+----+-------------------+----+----+----+----+----+----+----+----+----+----+----+\n",
            "|_c0|             Name|Age|               Photo|Nationality|                Flag|Overall|Potential|               Club|           Club Logo| Value| Wage|Special|Acceleration|Aggression|Agility|Balance|Ball control|Composure|Crossing|Curve|Dribbling|Finishing|Free kick accuracy|GK diving|GK handling|GK kicking|GK positioning|GK reflexes|Heading accuracy|Interceptions|Jumping|Long passing|Long shots|Marking|Penalties|Positioning|Reactions|Short passing|Shot power|Sliding tackle|Sprint speed|Stamina|Standing tackle|Strength|Vision|Volleys| CAM|  CB| CDM|  CF|  CM|    ID| LAM|  LB| LCB| LCM| LDM|  LF|  LM|  LS|  LW| LWB|Preferred Positions| RAM|  RB| RCB| RCM| RDM|  RF|  RM|  RS|  RW| RWB|  ST|\n",
            "+---+-----------------+---+--------------------+-----------+--------------------+-------+---------+-------------------+--------------------+------+-----+-------+------------+----------+-------+-------+------------+---------+--------+-----+---------+---------+------------------+---------+-----------+----------+--------------+-----------+----------------+-------------+-------+------------+----------+-------+---------+-----------+---------+-------------+----------+--------------+------------+-------+---------------+--------+------+-------+----+----+----+----+----+------+----+----+----+----+----+----+----+----+----+----+-------------------+----+----+----+----+----+----+----+----+----+----+----+\n",
            "|  0|Cristiano Ronaldo| 32|https://cdn.sofif...|   Portugal|https://cdn.sofif...|     94|       94|     Real Madrid CF|https://cdn.sofif...|€95.5M|€565K|   2228|          89|        63|     89|     63|          93|       95|      85|   81|       91|       94|                76|        7|         11|        15|            14|         11|              88|           29|     95|          77|        92|     22|       85|         95|       96|           83|        94|            23|          91|     92|             31|      80|    85|     88|89.0|53.0|62.0|91.0|82.0| 20801|89.0|61.0|53.0|82.0|62.0|91.0|89.0|92.0|91.0|66.0|             ST LW |89.0|61.0|53.0|82.0|62.0|91.0|89.0|92.0|91.0|66.0|92.0|\n",
            "|  1|         L. Messi| 30|https://cdn.sofif...|  Argentina|https://cdn.sofif...|     93|       93|       FC Barcelona|https://cdn.sofif...| €105M|€565K|   2154|          92|        48|     90|     95|          95|       96|      77|   89|       97|       95|                90|        6|         11|        15|            14|          8|              71|           22|     68|          87|        88|     13|       74|         93|       95|           88|        85|            26|          87|     73|             28|      59|    90|     85|92.0|45.0|59.0|92.0|84.0|158023|92.0|57.0|45.0|84.0|59.0|92.0|90.0|88.0|91.0|62.0|                RW |92.0|57.0|45.0|84.0|59.0|92.0|90.0|88.0|91.0|62.0|88.0|\n",
            "|  2|           Neymar| 25|https://cdn.sofif...|     Brazil|https://cdn.sofif...|     92|       94|Paris Saint-Germain|https://cdn.sofif...| €123M|€280K|   2100|          94|        56|     96|     82|          95|       92|      75|   81|       96|       89|                84|        9|          9|        15|            15|         11|              62|           36|     61|          75|        77|     21|       81|         90|       88|           81|        80|            33|          90|     78|             24|      53|    80|     83|88.0|46.0|59.0|88.0|79.0|190871|88.0|59.0|46.0|79.0|59.0|88.0|87.0|84.0|89.0|64.0|                LW |88.0|59.0|46.0|79.0|59.0|88.0|87.0|84.0|89.0|64.0|84.0|\n",
            "|  3|        L. Suárez| 30|https://cdn.sofif...|    Uruguay|https://cdn.sofif...|     92|       92|       FC Barcelona|https://cdn.sofif...|  €97M|€510K|   2291|          88|        78|     86|     60|          91|       83|      77|   86|       86|       94|                84|       27|         25|        31|            33|         37|              77|           41|     69|          64|        86|     30|       85|         92|       93|           83|        87|            38|          77|     89|             45|      80|    84|     88|87.0|58.0|65.0|88.0|80.0|176580|87.0|64.0|58.0|80.0|65.0|88.0|85.0|88.0|87.0|68.0|                ST |87.0|64.0|58.0|80.0|65.0|88.0|85.0|88.0|87.0|68.0|88.0|\n",
            "|  4|         M. Neuer| 31|https://cdn.sofif...|    Germany|https://cdn.sofif...|     92|       92|   FC Bayern Munich|https://cdn.sofif...|  €61M|€230K|   1493|          58|        29|     52|     35|          48|       70|      15|   14|       30|       13|                11|       91|         90|        95|            91|         89|              25|           30|     78|          59|        16|     10|       47|         12|       85|           55|        25|            11|          61|     44|             10|      83|    70|     11|NULL|NULL|NULL|NULL|NULL|167495|NULL|NULL|NULL|NULL|NULL|NULL|NULL|NULL|NULL|NULL|                GK |NULL|NULL|NULL|NULL|NULL|NULL|NULL|NULL|NULL|NULL|NULL|\n",
            "|  5|   R. Lewandowski| 28|https://cdn.sofif...|     Poland|https://cdn.sofif...|     91|       91|   FC Bayern Munich|https://cdn.sofif...|  €92M|€355K|   2143|          79|        80|     78|     80|          89|       87|      62|   77|       85|       91|                84|       15|          6|        12|             8|         10|              85|           39|     84|          65|        83|     25|       81|         91|       91|           83|        88|            19|          83|     79|             42|      84|    78|     87|84.0|57.0|62.0|87.0|78.0|188545|84.0|58.0|57.0|78.0|62.0|87.0|82.0|88.0|84.0|61.0|                ST |84.0|58.0|57.0|78.0|62.0|87.0|82.0|88.0|84.0|61.0|88.0|\n",
            "|  6|           De Gea| 26|https://cdn.sofif...|      Spain|https://cdn.sofif...|     90|       92|  Manchester United|https://cdn.sofif...|€64.5M|€215K|   1458|          57|        38|     60|     43|          42|       64|      17|   21|       18|       13|                19|       90|         85|        87|            86|         90|              21|           30|     67|          51|        12|     13|       40|         12|       88|           50|        31|            13|          58|     40|             21|      64|    68|     13|NULL|NULL|NULL|NULL|NULL|193080|NULL|NULL|NULL|NULL|NULL|NULL|NULL|NULL|NULL|NULL|                GK |NULL|NULL|NULL|NULL|NULL|NULL|NULL|NULL|NULL|NULL|NULL|\n",
            "|  7|        E. Hazard| 26|https://cdn.sofif...|    Belgium|https://cdn.sofif...|     90|       91|            Chelsea|https://cdn.sofif...|€90.5M|€295K|   2096|          93|        54|     93|     91|          92|       87|      80|   82|       93|       83|                79|       11|         12|         6|             8|          8|              57|           41|     59|          81|        82|     25|       86|         85|       85|           86|        79|            22|          87|     79|             27|      65|    86|     79|88.0|47.0|61.0|87.0|81.0|183277|88.0|59.0|47.0|81.0|61.0|87.0|87.0|82.0|88.0|64.0|                LW |88.0|59.0|47.0|81.0|61.0|87.0|87.0|82.0|88.0|64.0|82.0|\n",
            "|  8|         T. Kroos| 27|https://cdn.sofif...|    Germany|https://cdn.sofif...|     90|       90|     Real Madrid CF|https://cdn.sofif...|  €79M|€340K|   2165|          60|        60|     71|     69|          89|       85|      85|   85|       79|       76|                84|       10|         11|        13|             7|         10|              54|           85|     32|          93|        90|     63|       73|         79|       86|           90|        87|            69|          52|     77|             82|      74|    88|     82|83.0|72.0|82.0|81.0|87.0|182521|83.0|76.0|72.0|87.0|82.0|81.0|81.0|77.0|80.0|78.0|            CDM CM |83.0|76.0|72.0|87.0|82.0|81.0|81.0|77.0|80.0|78.0|77.0|\n",
            "|  9|       G. Higuaín| 29|https://cdn.sofif...|  Argentina|https://cdn.sofif...|     90|       90|           Juventus|https://cdn.sofif...|  €77M|€275K|   1961|          78|        50|     75|     69|          85|       86|      68|   74|       84|       91|                62|        5|         12|         7|             5|         10|              86|           20|     79|          59|        82|     12|       70|         92|       88|           75|        88|            18|          80|     72|             22|      85|    70|     88|81.0|46.0|52.0|84.0|71.0|167664|81.0|51.0|46.0|71.0|52.0|84.0|79.0|87.0|82.0|55.0|                ST |81.0|51.0|46.0|71.0|52.0|84.0|79.0|87.0|82.0|55.0|87.0|\n",
            "| 10|     Sergio Ramos| 31|https://cdn.sofif...|      Spain|https://cdn.sofif...|     90|       90|     Real Madrid CF|https://cdn.sofif...|  €52M|€310K|   2153|          75|        84|     79|     60|          84|       80|      66|   73|       61|       60|                67|       11|          8|         9|             7|         11|              91|           88|     93|          72|        55|     86|       68|         52|       85|           78|        79|            91|          77|     84|             89|      81|    63|     66|70.0|87.0|83.0|70.0|74.0|155862|70.0|84.0|87.0|74.0|83.0|70.0|71.0|72.0|69.0|81.0|                CB |70.0|84.0|87.0|74.0|83.0|70.0|71.0|72.0|69.0|81.0|72.0|\n",
            "| 11|     K. De Bruyne| 26|https://cdn.sofif...|    Belgium|https://cdn.sofif...|     89|       92|    Manchester City|https://cdn.sofif...|  €83M|€285K|   2162|          76|        68|     80|     75|          87|       84|      90|   83|       85|       83|                83|       15|         13|         5|            10|         13|              53|           56|     65|          84|        86|     30|       77|         84|       88|           90|        85|            40|          75|     87|             51|      73|    90|     82|86.0|57.0|70.0|85.0|84.0|192985|86.0|66.0|57.0|84.0|70.0|85.0|85.0|81.0|85.0|71.0|         RM CM CAM |86.0|66.0|57.0|84.0|70.0|85.0|85.0|81.0|85.0|71.0|81.0|\n",
            "| 12|      T. Courtois| 25|https://cdn.sofif...|    Belgium|https://cdn.sofif...|     89|       92|            Chelsea|https://cdn.sofif...|  €59M|€190K|   1282|          46|        23|     61|     45|          23|       52|      14|   19|       13|       14|                11|       85|         91|        69|            86|         88|              13|           15|     68|          31|        17|     11|       27|         13|       81|           32|        36|            16|          52|     38|             18|      70|    44|     12|NULL|NULL|NULL|NULL|NULL|192119|NULL|NULL|NULL|NULL|NULL|NULL|NULL|NULL|NULL|NULL|                GK |NULL|NULL|NULL|NULL|NULL|NULL|NULL|NULL|NULL|NULL|NULL|\n",
            "| 13|       A. Sánchez| 28|https://cdn.sofif...|      Chile|https://cdn.sofif...|     89|       89|            Arsenal|https://cdn.sofif...|€67.5M|€265K|   2181|          88|        80|     90|     87|          87|       86|      80|   78|       90|       85|                78|       10|         10|        15|            12|         13|              70|           42|     85|          73|        82|     30|       77|         86|       87|           81|        84|            35|          84|     85|             39|      72|    83|     83|85.0|56.0|64.0|85.0|79.0|184941|85.0|62.0|56.0|79.0|64.0|85.0|85.0|83.0|86.0|66.0|       RM LW ST LM |85.0|62.0|56.0|79.0|64.0|85.0|85.0|83.0|86.0|66.0|83.0|\n",
            "| 14|        L. Modrić| 31|https://cdn.sofif...|    Croatia|https://cdn.sofif...|     89|       89|     Real Madrid CF|https://cdn.sofif...|  €57M|€340K|   2228|          75|        62|     93|     94|          92|       84|      78|   79|       86|       71|                77|       13|          9|         7|            14|          9|              55|           76|     67|          83|        82|     66|       80|         79|       88|           92|        73|            73|          71|     82|             80|      58|    90|     74|86.0|72.0|80.0|83.0|86.0|177003|86.0|78.0|72.0|86.0|80.0|83.0|84.0|76.0|83.0|80.0|            CDM CM |86.0|78.0|72.0|86.0|80.0|83.0|84.0|76.0|83.0|80.0|76.0|\n",
            "| 15|          G. Bale| 27|https://cdn.sofif...|      Wales|https://cdn.sofif...|     89|       89|     Real Madrid CF|https://cdn.sofif...|€69.5M|€370K|   2263|          93|        65|     77|     65|          87|       85|      87|   86|       89|       87|                85|       15|         15|        11|             5|          6|              86|           59|     85|          80|        90|     51|       76|         86|       87|           86|        91|            52|          95|     76|             55|      80|    79|     76|86.0|67.0|71.0|87.0|81.0|173731|86.0|72.0|67.0|81.0|71.0|87.0|87.0|87.0|87.0|74.0|                RW |86.0|72.0|67.0|81.0|71.0|87.0|87.0|87.0|87.0|74.0|87.0|\n",
            "| 16|        S. Agüero| 29|https://cdn.sofif...|  Argentina|https://cdn.sofif...|     89|       89|    Manchester City|https://cdn.sofif...|€66.5M|€325K|   2074|          90|        63|     86|     91|          89|       90|      70|   82|       89|       90|                72|       13|         15|         6|            11|         14|              68|           24|     80|          63|        83|     13|       83|         91|       89|           79|        88|            12|          84|     74|             20|      74|    83|     85|85.0|44.0|54.0|87.0|75.0|153079|85.0|52.0|44.0|75.0|54.0|87.0|84.0|86.0|86.0|57.0|                ST |85.0|52.0|44.0|75.0|54.0|87.0|84.0|86.0|86.0|57.0|86.0|\n",
            "| 17|     G. Chiellini| 32|https://cdn.sofif...|      Italy|https://cdn.sofif...|     89|       89|           Juventus|https://cdn.sofif...|  €38M|€225K|   1867|          68|        92|     59|     64|          57|       82|      58|   60|       58|       33|                31|        3|          3|         2|             4|          3|              84|           88|     89|          59|        49|     92|       50|         28|       82|           59|        78|            90|          78|     68|             92|      91|    50|     45|55.0|86.0|76.0|55.0|60.0|138956|55.0|78.0|86.0|60.0|76.0|55.0|58.0|59.0|56.0|75.0|                CB |55.0|78.0|86.0|60.0|76.0|55.0|58.0|59.0|56.0|75.0|59.0|\n",
            "| 18|        G. Buffon| 39|https://cdn.sofif...|      Italy|https://cdn.sofif...|     89|       89|           Juventus|https://cdn.sofif...| €4.5M|€110K|   1335|          49|        38|     55|     49|          28|       70|      13|   20|       26|       15|                13|       89|         88|        74|            90|         84|              13|           28|     75|          35|        13|     10|       22|         12|       80|           37|        39|            11|          43|     39|             11|      69|    50|     17|NULL|NULL|NULL|NULL|NULL|  1179|NULL|NULL|NULL|NULL|NULL|NULL|NULL|NULL|NULL|NULL|                GK |NULL|NULL|NULL|NULL|NULL|NULL|NULL|NULL|NULL|NULL|NULL|\n",
            "| 19|        P. Dybala| 23|https://cdn.sofif...|  Argentina|https://cdn.sofif...|     88|       93|           Juventus|https://cdn.sofif...|  €79M|€215K|   2063|          88|        48|     91|     85|          93|       84|      80|   88|       92|       85|                84|        5|          4|         4|             5|          8|              68|           24|     75|          71|        88|     14|       86|         84|       84|           83|        82|            20|          84|     83|             20|      65|    84|     88|86.0|43.0|55.0|86.0|78.0|211110|86.0|55.0|43.0|78.0|55.0|86.0|86.0|83.0|87.0|60.0|            ST CAM |86.0|55.0|43.0|78.0|55.0|86.0|86.0|83.0|87.0|60.0|83.0|\n",
            "+---+-----------------+---+--------------------+-----------+--------------------+-------+---------+-------------------+--------------------+------+-----+-------+------------+----------+-------+-------+------------+---------+--------+-----+---------+---------+------------------+---------+-----------+----------+--------------+-----------+----------------+-------------+-------+------------+----------+-------+---------+-----------+---------+-------------+----------+--------------+------------+-------+---------------+--------+------+-------+----+----+----+----+----+------+----+----+----+----+----+----+----+----+----+----+-------------------+----+----+----+----+----+----+----+----+----+----+----+\n",
            "only showing top 20 rows\n",
            "\n"
          ]
        }
      ]
    },
    {
      "cell_type": "code",
      "source": [
        "# How many partitions in DF.\n",
        "df1.rdd.getNumPartitions()"
      ],
      "metadata": {
        "colab": {
          "base_uri": "https://localhost:8080/"
        },
        "id": "T_0eZbE5FL4Z",
        "outputId": "faa6634a-7172-45ef-efbc-c0429cfd7a4b"
      },
      "execution_count": null,
      "outputs": [
        {
          "output_type": "execute_result",
          "data": {
            "text/plain": [
              "2"
            ]
          },
          "metadata": {},
          "execution_count": 39
        }
      ]
    },
    {
      "cell_type": "code",
      "source": [
        "# Repartition -  Increase/ Decrease the partitions in Df\n",
        "df2=df1.repartition(4)\n",
        "df2.rdd.getNumPartitions()\n",
        "\n",
        "#df2.show()\n"
      ],
      "metadata": {
        "colab": {
          "base_uri": "https://localhost:8080/"
        },
        "id": "ZKxybzS7FMGG",
        "outputId": "66a442cb-3d9c-4adb-ada9-3aff62046a30"
      },
      "execution_count": null,
      "outputs": [
        {
          "output_type": "execute_result",
          "data": {
            "text/plain": [
              "4"
            ]
          },
          "metadata": {},
          "execution_count": 40
        }
      ]
    },
    {
      "cell_type": "code",
      "source": [
        "#Rename columns and amend NULLs\n",
        "df2=df2.withColumnRenamed(\"_c0\",\"ID\")\\\n",
        "    .withColumnRenamed(\"Ball control\",\"Ball_Control\")\\\n",
        "    .withColumnRenamed(\"Sliding tackle\", \"Sliding_Tackle\")\n",
        "\n",
        "df2.na.fill({\"RAM\":10,\"RB\":1}).show()\n",
        "\n",
        "#df2.dropna()"
      ],
      "metadata": {
        "colab": {
          "base_uri": "https://localhost:8080/"
        },
        "id": "FyQd52K-JFhp",
        "outputId": "7c66b58c-cd9e-4d08-a8d2-765fb5a15d5a"
      },
      "execution_count": null,
      "outputs": [
        {
          "output_type": "stream",
          "name": "stdout",
          "text": [
            "+-----+-------------+---+--------------------+-------------+--------------------+-------+---------+--------------------+--------------------+------+-----+-------+------------+----------+-------+-------+------------+---------+--------+-----+---------+---------+------------------+---------+-----------+----------+--------------+-----------+----------------+-------------+-------+------------+----------+-------+---------+-----------+---------+-------------+----------+--------------+------------+-------+---------------+--------+------+-------+----+----+----+----+----+------+----+----+----+----+----+----+----+----+----+----+-------------------+----+----+----+----+----+----+----+----+----+----+----+\n",
            "|   ID|         Name|Age|               Photo|  Nationality|                Flag|Overall|Potential|                Club|           Club Logo| Value| Wage|Special|Acceleration|Aggression|Agility|Balance|Ball_Control|Composure|Crossing|Curve|Dribbling|Finishing|Free kick accuracy|GK diving|GK handling|GK kicking|GK positioning|GK reflexes|Heading accuracy|Interceptions|Jumping|Long passing|Long shots|Marking|Penalties|Positioning|Reactions|Short passing|Shot power|Sliding_Tackle|Sprint speed|Stamina|Standing tackle|Strength|Vision|Volleys| CAM|  CB| CDM|  CF|  CM|    ID| LAM|  LB| LCB| LCM| LDM|  LF|  LM|  LS|  LW| LWB|Preferred Positions| RAM|  RB| RCB| RCM| RDM|  RF|  RM|  RS|  RW| RWB|  ST|\n",
            "+-----+-------------+---+--------------------+-------------+--------------------+-------+---------+--------------------+--------------------+------+-----+-------+------------+----------+-------+-------+------------+---------+--------+-----+---------+---------+------------------+---------+-----------+----------+--------------+-----------+----------------+-------------+-------+------------+----------+-------+---------+-----------+---------+-------------+----------+--------------+------------+-------+---------------+--------+------+-------+----+----+----+----+----+------+----+----+----+----+----+----+----+----+----+----+-------------------+----+----+----+----+----+----+----+----+----+----+----+\n",
            "| 4566| H. Salazores| 29|https://cdn.sofif...|        Chile|https://cdn.sofif...|     71|       71|  Santiago Wanderers|https://cdn.sofif...| €1.8M|  €4K|   1915|          78|        64|     81|     77|          69|       69|      71|   58|       66|       48|                60|       14|         11|        11|            11|         11|              50|           73|     69|          51|        68|     66|       55|         63|       71|           67|        75|            72|          74|     76|             68|      64|    59|     64|65.0|67.0|67.0|65.0|65.0|160172|65.0|70.0|67.0|65.0|67.0|65.0|67.0|63.0|67.0|71.0|                LB |65.0|70.0|67.0|65.0|67.0|65.0|67.0|63.0|67.0|71.0|63.0|\n",
            "|10703|  J. Karlsson| 28|https://cdn.sofif...|       Sweden|https://cdn.sofif...|     65|       65| Jönköpings Södra IF|https://cdn.sofif...| €450K|  €1K|   1520|          53|        87|     58|     55|          50|       59|      55|   47|       43|       31|                30|       13|          7|         9|             9|         11|              52|           61|     58|          45|        28|     72|       42|         36|       59|           54|        47|            62|          55|     61|             65|      74|    57|     34|48.0|64.0|60.0|46.0|51.0| 20689|48.0|59.0|64.0|51.0|60.0|46.0|50.0|46.0|47.0|58.0|                CB |48.0|59.0|64.0|51.0|60.0|46.0|50.0|46.0|47.0|58.0|46.0|\n",
            "| 7502|    J. Michel| 25|https://cdn.sofif...|       France|https://cdn.sofif...|     68|       71|    Sporting Lokeren|https://cdn.sofif...| €1.1M|  €9K|   1805|          47|        58|     71|     70|          70|       73|      71|   73|       65|       51|                71|       13|          9|        14|            14|         12|              56|           66|     48|          73|        71|     46|       66|         57|       65|           71|        69|            54|          42|     67|             56|      56|    67|     66|65.0|57.0|63.0|62.0|67.0|212169|65.0|60.0|57.0|67.0|63.0|62.0|63.0|60.0|63.0|62.0|     LM CAM CDM CM |65.0|60.0|57.0|67.0|63.0|62.0|63.0|60.0|63.0|62.0|60.0|\n",
            "| 8437|       O. Şam| 31|https://cdn.sofif...|       Turkey|https://cdn.sofif...|     67|       67|   Gençlerbirliği SK|https://cdn.sofif...| €500K| €10K|   1660|          65|        68|     73|     66|          63|       62|      61|   61|       62|       34|                41|       14|          7|        13|             9|         11|              68|           64|     65|          60|        41|     67|       35|         36|       67|           63|        49|            67|          69|     65|             69|      67|    38|     22|55.0|67.0|64.0|53.0|57.0|125103|55.0|66.0|67.0|57.0|64.0|53.0|58.0|53.0|56.0|65.0|                RB |55.0|66.0|67.0|57.0|64.0|53.0|58.0|53.0|56.0|65.0|53.0|\n",
            "| 4167|    J. Campos| 29|https://cdn.sofif...|      Bolivia|https://cdn.sofif...|     71|       71|                NULL|https://cdn.sofif...|    €0|   €0|   1758|          66|        39|     71|     79|          78|       64|      64|   78|       72|       58|                75|        9|         16|        15|            10|          7|              45|           29|     57|          64|        74|     24|       81|         61|       63|           72|        68|            23|          64|     78|             21|      62|    72|     63|70.0|39.0|51.0|68.0|66.0|196913|70.0|48.0|39.0|66.0|51.0|68.0|69.0|64.0|68.0|53.0|         CM LM CAM |70.0|48.0|39.0|66.0|51.0|68.0|69.0|64.0|68.0|53.0|64.0|\n",
            "| 1278|     M. Noble| 30|https://cdn.sofif...|      England|https://cdn.sofif...|     76|       76|     West Ham United|https://cdn.sofif...| €5.5M| €83K|   2016|          45|        81|     65|     74|          76|       77|      71|   71|       74|       60|                67|        7|          6|        14|            16|         11|              62|           73|     59|          77|        68|     65|       88|         64|       73|           79|        74|            75|          47|     83|             74|      72|    77|     68|71.0|71.0|75.0|69.0|75.0|152879|71.0|70.0|71.0|75.0|75.0|69.0|70.0|66.0|68.0|72.0|            CM CDM |71.0|70.0|71.0|75.0|75.0|69.0|70.0|66.0|68.0|72.0|66.0|\n",
            "| 6193| M. Mitrishev| 24|https://cdn.sofif...|       Russia|https://cdn.sofif...|     69|       74|        Terek Grozny|https://cdn.sofif...| €1.4M| €19K|   1528|          71|        59|     91|     78|          68|       54|      49|   37|       67|       70|                43|        6|         10|         6|            15|          7|              67|           25|     28|          39|        70|     11|       59|         73|       70|           62|        68|            13|          81|     34|             17|      34|    34|     66|63.0|35.0|39.0|67.0|53.0|199035|63.0|41.0|35.0|53.0|39.0|67.0|61.0|68.0|66.0|43.0|          LM RM ST |63.0|41.0|35.0|53.0|39.0|67.0|61.0|68.0|66.0|43.0|68.0|\n",
            "| 6191|    M. Martin| 28|https://cdn.sofif...|       France|https://cdn.sofif...|     69|       69| Heart of Midlothian|https://cdn.sofif...|   €1M|  €6K|   1878|          54|        68|     67|     72|          66|       61|      69|   57|       56|       60|                70|        7|          9|        13|            10|          9|              64|           68|     74|          72|        70|     54|       74|         59|       67|           74|        66|            67|          46|     76|             68|      74|    67|     51|65.0|66.0|68.0|62.0|68.0|177017|65.0|65.0|66.0|68.0|68.0|62.0|64.0|62.0|62.0|66.0|        CDM CAM CM |65.0|65.0|66.0|68.0|68.0|62.0|64.0|62.0|62.0|66.0|62.0|\n",
            "|12357|J. Welzmüller| 27|https://cdn.sofif...|      Germany|https://cdn.sofif...|     63|       64|  SpVgg Unterhaching|https://cdn.sofif...| €350K|  €1K|   1376|          62|        55|     59|     54|          54|       60|      24|   24|       27|       19|                26|        7|          9|         9|             9|         15|              62|           57|     71|          39|        31|     59|       33|         27|       64|           49|        35|            65|          59|     70|             67|      76|    29|     30|41.0|62.0|56.0|40.0|45.0|238964|41.0|58.0|62.0|45.0|56.0|40.0|42.0|42.0|40.0|55.0|                CB |41.0|58.0|62.0|45.0|56.0|40.0|42.0|42.0|40.0|55.0|42.0|\n",
            "| 9785|   D. Londoño| 22|https://cdn.sofif...|     Colombia|https://cdn.sofif...|     66|       76|         Envigado FC|https://cdn.sofif...| €900K|  €1K|   1609|          69|        64|     67|     57|          65|       50|      64|   28|       55|       35|                35|       13|         11|        15|            15|          7|              62|           53|     59|          51|        49|     67|       40|         46|       62|           62|        28|            71|          71|     68|             68|      72|    56|     24|57.0|65.0|62.0|55.0|58.0|223721|57.0|65.0|65.0|58.0|62.0|55.0|59.0|52.0|58.0|64.0|                LB |57.0|65.0|65.0|58.0|62.0|55.0|59.0|52.0|58.0|64.0|52.0|\n",
            "|   74|     K. Navas| 30|https://cdn.sofif...|   Costa Rica|https://cdn.sofif...|     85|       85|      Real Madrid CF|https://cdn.sofif...|€24.5M|€165K|   1301|          54|        32|     60|     61|          19|       49|      11|   11|       16|       15|                15|       87|         82|        72|            80|         85|              11|           20|     74|          37|        13|     12|       25|         16|       82|           30|        21|            14|          53|     39|             14|      75|    54|     11|NULL|NULL|NULL|NULL|NULL|193041|NULL|NULL|NULL|NULL|NULL|NULL|NULL|NULL|NULL|NULL|                GK |10.0| 1.0|NULL|NULL|NULL|NULL|NULL|NULL|NULL|NULL|NULL|\n",
            "| 3627|    Y. Andreu| 28|https://cdn.sofif...|       France|https://cdn.sofif...|     72|       72|          Angers SCO|https://cdn.sofif...| €2.5M| €16K|   1693|          66|        68|     67|     74|          72|       66|      73|   45|       68|       22|                31|       13|         12|         7|            11|         10|              63|           69|     66|          64|        29|     73|       28|         55|       68|           69|        36|            73|          65|     75|             74|      66|    53|     28|60.0|70.0|69.0|57.0|64.0|190579|60.0|71.0|70.0|64.0|69.0|57.0|64.0|52.0|61.0|71.0|             RB LB |60.0|71.0|70.0|64.0|69.0|57.0|64.0|52.0|61.0|71.0|52.0|\n",
            "| 2357|    V. Bessat| 31|https://cdn.sofif...|       France|https://cdn.sofif...|     74|       74|             SM Caen|https://cdn.sofif...| €4.9M| €23K|   1956|          75|        62|     76|     74|          75|       71|      79|   54|       75|       58|                57|        6|         16|        10|            12|          9|              53|           46|     73|          75|        71|     71|       58|         70|       76|           75|        67|            69|          72|     64|             72|      70|    74|     62|73.0|66.0|68.0|71.0|72.0|184706|73.0|69.0|66.0|72.0|68.0|71.0|73.0|68.0|73.0|70.0|             LB LM |73.0|69.0|66.0|72.0|68.0|71.0|73.0|68.0|73.0|70.0|68.0|\n",
            "|  874|      Rochina| 26|https://cdn.sofif...|        Spain|https://cdn.sofif...|     78|       80|         Rubin Kazan|https://cdn.sofif...|€12.5M| €48K|   1981|          75|        71|     67|     68|          80|       72|      75|   76|       79|       70|                68|        7|         16|        11|            13|         13|              54|           54|     71|          76|        81|     20|       67|         75|       79|           78|        82|            40|          72|     71|             54|      73|    77|     68|77.0|55.0|64.0|77.0|75.0|188103|77.0|60.0|55.0|75.0|64.0|77.0|76.0|74.0|76.0|64.0|         RM LM CAM |77.0|60.0|55.0|75.0|64.0|77.0|76.0|74.0|76.0|64.0|74.0|\n",
            "|10459|  T. Yonemoto| 26|https://cdn.sofif...|        Japan|https://cdn.sofif...|     65|       66|          F.C. Tokyo|https://cdn.sofif...| €625K|  €4K|   1765|          68|        63|     70|     64|          66|       60|      64|   41|       65|       54|                52|        7|         14|         9|             7|         11|              58|           65|     58|          65|        60|     65|       56|         55|       66|           65|        58|            64|          67|     78|             62|      61|    61|     46|63.0|63.0|65.0|62.0|64.0|232852|63.0|66.0|63.0|64.0|65.0|62.0|64.0|60.0|63.0|66.0|                CM |63.0|66.0|63.0|64.0|65.0|62.0|64.0|60.0|63.0|66.0|60.0|\n",
            "|  245|  J. Cuadrado| 29|https://cdn.sofif...|     Colombia|https://cdn.sofif...|     82|       82|            Juventus|https://cdn.sofif...|€21.5M|€130K|   2111|          90|        70|     91|     83|          83|       76|      78|   76|       90|       67|                69|        5|          5|        13|             6|          9|              58|           62|     75|          69|        80|     60|       65|         78|       76|           77|        84|            68|          92|     75|             60|      57|    72|     68|79.0|65.0|69.0|80.0|75.0|193082|79.0|72.0|65.0|75.0|69.0|80.0|80.0|76.0|81.0|74.0|                RM |79.0|72.0|65.0|75.0|69.0|80.0|80.0|76.0|81.0|74.0|76.0|\n",
            "| 5713|    Kike Sola| 31|https://cdn.sofif...|        Spain|https://cdn.sofif...|     70|       70|Athletic Club de ...|https://cdn.sofif...| €1.6M| €17K|   1717|          56|        72|     65|     68|          73|       63|      59|   59|       71|       68|                59|        6|          9|        10|             4|          2|              78|           43|     59|          55|        65|     40|       63|         71|       61|           71|        69|            42|          47|     30|             45|      76|    56|     65|66.0|56.0|55.0|67.0|61.0|185073|66.0|51.0|56.0|61.0|55.0|67.0|63.0|69.0|65.0|52.0|                ST |66.0|51.0|56.0|61.0|55.0|67.0|63.0|69.0|65.0|52.0|69.0|\n",
            "|  846|   I. Afellay| 31|https://cdn.sofif...|  Netherlands|https://cdn.sofif...|     78|       78|          Stoke City|https://cdn.sofif...|   €9M| €68K|   2027|          76|        59|     76|     77|          82|       78|      78|   79|       80|       71|                75|       14|          7|        10|            12|          8|              46|           62|     75|          74|        76|     36|       70|         73|       75|           81|        75|            58|          74|     70|             67|      64|    75|     72|77.0|60.0|68.0|76.0|76.0|158372|77.0|67.0|60.0|76.0|68.0|76.0|77.0|72.0|77.0|69.0|     CDM LM CM CAM |77.0|67.0|60.0|76.0|68.0|76.0|77.0|72.0|77.0|69.0|72.0|\n",
            "| 5238| P. Gallagher| 32|https://cdn.sofif...|     Scotland|https://cdn.sofif...|     70|       70|   Preston North End|https://cdn.sofif...| €1.3M| €11K|   1826|          59|        53|     68|     60|          73|       66|      78|   78|       65|       62|                75|        8|          8|         7|             9|          6|              52|           49|     60|          76|        74|     23|       65|         65|       63|           72|        79|            45|          61|     71|             60|      67|    75|     60|69.0|53.0|60.0|67.0|69.0|162926|69.0|58.0|53.0|69.0|60.0|67.0|69.0|65.0|68.0|60.0|                CM |69.0|58.0|53.0|69.0|60.0|67.0|69.0|65.0|68.0|60.0|65.0|\n",
            "| 9800|    C. Davies| 31|https://cdn.sofif...|United States|https://cdn.sofif...|     66|       66|  Philadelphia Union|https://cdn.sofif...| €575K|  €3K|   1676|          69|        64|     69|     72|          65|       66|      57|   69|       67|       64|                49|        7|         13|         8|            12|         13|              63|           35|     69|          38|        60|     26|       66|         65|       61|           60|        69|            24|          66|     65|             28|      63|    52|     68|61.0|44.0|46.0|64.0|55.0|179692|61.0|47.0|44.0|55.0|46.0|64.0|62.0|65.0|63.0|50.0|                ST |61.0|47.0|44.0|55.0|46.0|64.0|62.0|65.0|63.0|50.0|65.0|\n",
            "+-----+-------------+---+--------------------+-------------+--------------------+-------+---------+--------------------+--------------------+------+-----+-------+------------+----------+-------+-------+------------+---------+--------+-----+---------+---------+------------------+---------+-----------+----------+--------------+-----------+----------------+-------------+-------+------------+----------+-------+---------+-----------+---------+-------------+----------+--------------+------------+-------+---------------+--------+------+-------+----+----+----+----+----+------+----+----+----+----+----+----+----+----+----+----+-------------------+----+----+----+----+----+----+----+----+----+----+----+\n",
            "only showing top 20 rows\n",
            "\n"
          ]
        }
      ]
    },
    {
      "cell_type": "code",
      "source": [
        "#Transformation (SELECT)\n",
        "df2.select(\"Name\",\"Overall\").distinct().show()"
      ],
      "metadata": {
        "colab": {
          "base_uri": "https://localhost:8080/"
        },
        "id": "e-3nt4DfJFxw",
        "outputId": "29ccbcbd-7ceb-47c3-84a4-10b79f9ac432"
      },
      "execution_count": null,
      "outputs": [
        {
          "output_type": "stream",
          "name": "stdout",
          "text": [
            "+------------------+-------+\n",
            "|              Name|Overall|\n",
            "+------------------+-------+\n",
            "|        E. Horvath|     71|\n",
            "|        M. Randall|     62|\n",
            "|      A. Granqvist|     80|\n",
            "|       A. Thompson|     65|\n",
            "|    R. Cornthwaite|     66|\n",
            "|         G. Zajkov|     62|\n",
            "|       J. Cuadrado|     82|\n",
            "|           M. Dube|     63|\n",
            "|      A. Al Asmari|     62|\n",
            "|           T. Aoki|     64|\n",
            "|        M. Edwards|     58|\n",
            "|           L. Amos|     60|\n",
            "|       S. Kawamata|     56|\n",
            "|A. Taylor-Sinclair|     60|\n",
            "|       A. Bouchard|     60|\n",
            "|        J. Cortizo|     58|\n",
            "|     Fran Villalba|     70|\n",
            "|         V. Lazaro|     71|\n",
            "|         Guillermo|     70|\n",
            "|         T. Ayasse|     68|\n",
            "+------------------+-------+\n",
            "only showing top 20 rows\n",
            "\n"
          ]
        }
      ]
    },
    {
      "cell_type": "code",
      "source": [
        "# Transformation(FILTER)\n",
        "df2.filter(df2[\"Overall\"] > 70).show()"
      ],
      "metadata": {
        "colab": {
          "base_uri": "https://localhost:8080/"
        },
        "id": "fX0vlehOJF6-",
        "outputId": "78a97e60-63e0-424e-cef6-aad751481f3e"
      },
      "execution_count": null,
      "outputs": [
        {
          "output_type": "stream",
          "name": "stdout",
          "text": [
            "+----+------------+---+--------------------+-------------------+--------------------+-------+---------+--------------------+--------------------+-----+----+-------+------------+----------+-------+-------+------------+---------+--------+-----+---------+---------+------------------+---------+-----------+----------+--------------+-----------+----------------+-------------+-------+------------+----------+-------+---------+-----------+---------+-------------+----------+--------------+------------+-------+---------------+--------+------+-------+----+----+----+----+----+------+----+----+----+----+----+----+----+----+----+----+-------------------+----+----+----+----+----+----+----+----+----+----+----+\n",
            "|  ID|        Name|Age|               Photo|        Nationality|                Flag|Overall|Potential|                Club|           Club Logo|Value|Wage|Special|Acceleration|Aggression|Agility|Balance|Ball_Control|Composure|Crossing|Curve|Dribbling|Finishing|Free kick accuracy|GK diving|GK handling|GK kicking|GK positioning|GK reflexes|Heading accuracy|Interceptions|Jumping|Long passing|Long shots|Marking|Penalties|Positioning|Reactions|Short passing|Shot power|Sliding_Tackle|Sprint speed|Stamina|Standing tackle|Strength|Vision|Volleys| CAM|  CB| CDM|  CF|  CM|    ID| LAM|  LB| LCB| LCM| LDM|  LF|  LM|  LS|  LW| LWB|Preferred Positions| RAM|  RB| RCB| RCM| RDM|  RF|  RM|  RS|  RW| RWB|  ST|\n",
            "+----+------------+---+--------------------+-------------------+--------------------+-------+---------+--------------------+--------------------+-----+----+-------+------------+----------+-------+-------+------------+---------+--------+-----+---------+---------+------------------+---------+-----------+----------+--------------+-----------+----------------+-------------+-------+------------+----------+-------+---------+-----------+---------+-------------+----------+--------------+------------+-------+---------------+--------+------+-------+----+----+----+----+----+------+----+----+----+----+----+----+----+----+----+----+-------------------+----+----+----+----+----+----+----+----+----+----+----+\n",
            "| 226| A. Florenzi| 26|https://cdn.sofif...|              Italy|https://cdn.sofif...|     82|       84|                Roma|https://cdn.sofif...| €22M|€73K|   2265|          86|        79|     87|     84|          84|       79|      77|   73|       79|       76|                79|        9|          8|        10|            11|         10|              70|           77|     74|          75|        82|     73|       76|         82|       79|           82|        82|            78|          84|     90|             79|      68|    75|     87|80.0|76.0|79.0|80.0|80.0|203551|80.0|80.0|76.0|80.0|79.0|80.0|81.0|79.0|81.0|80.0|          CM RW RB |80.0|80.0|76.0|80.0|79.0|80.0|81.0|79.0|81.0|80.0|79.0|\n",
            "|4167|   J. Campos| 29|https://cdn.sofif...|            Bolivia|https://cdn.sofif...|     71|       71|                NULL|https://cdn.sofif...|   €0|  €0|   1758|          66|        39|     71|     79|          78|       64|      64|   78|       72|       58|                75|        9|         16|        15|            10|          7|              45|           29|     57|          64|        74|     24|       81|         61|       63|           72|        68|            23|          64|     78|             21|      62|    72|     63|70.0|39.0|51.0|68.0|66.0|196913|70.0|48.0|39.0|66.0|51.0|68.0|69.0|64.0|68.0|53.0|         CM LM CAM |70.0|48.0|39.0|66.0|51.0|68.0|69.0|64.0|68.0|53.0|64.0|\n",
            "|4253|   M. Rangel| 26|https://cdn.sofif...|           Colombia|https://cdn.sofif...|     71|       74|        Kasimpaşa SK|https://cdn.sofif...|  €3M| €4K|   1719|          62|        54|     71|     60|          64|       67|      45|   60|       64|       75|                62|        8|          8|         8|            13|         15|              75|           32|     75|          43|        68|     24|       65|         73|       65|           57|        73|            23|          66|     74|             25|      80|    53|     79|63.0|46.0|46.0|66.0|57.0|214350|63.0|46.0|46.0|57.0|46.0|66.0|61.0|70.0|63.0|48.0|                ST |63.0|46.0|46.0|57.0|46.0|66.0|61.0|70.0|63.0|48.0|70.0|\n",
            "|4113|   D. Jevtić| 24|https://cdn.sofif...|        Switzerland|https://cdn.sofif...|     71|       77|         Lech Poznań|https://cdn.sofif...|€3.2M| €7K|   1823|          74|        54|     72|     76|          71|       65|      66|   69|       72|       68|                65|       12|         13|        14|             8|          9|              50|           47|     69|          67|        65|     42|       68|         71|       63|           73|        68|            31|          70|     69|             35|      65|    73|     54|71.0|49.0|57.0|70.0|67.0|208160|71.0|54.0|49.0|67.0|57.0|70.0|70.0|67.0|70.0|58.0|            CAM LM |71.0|54.0|49.0|67.0|57.0|70.0|70.0|67.0|70.0|58.0|67.0|\n",
            "|3677|     Moreira| 35|https://cdn.sofif...|           Portugal|https://cdn.sofif...|     72|       72|       Estoril Praia|https://cdn.sofif...|€725K| €4K|   1206|          54|        40|     40|     45|          29|       44|      19|   18|       17|       14|                17|       73|         73|        64|            71|         72|              13|           23|     81|          34|        11|     12|       11|         14|       68|           33|        44|            14|          48|     30|             10|      63|    32|     19|NULL|NULL|NULL|NULL|NULL|  3974|NULL|NULL|NULL|NULL|NULL|NULL|NULL|NULL|NULL|NULL|                GK |NULL|NULL|NULL|NULL|NULL|NULL|NULL|NULL|NULL|NULL|NULL|\n",
            "|1274|     P. Groß| 26|https://cdn.sofif...|            Germany|https://cdn.sofif...|     76|       78|Brighton & Hove A...|https://cdn.sofif...|€9.5M|€52K|   2054|        65-2|        66|   69+1|     73|          76|       71|    80+2|   81|     74+2|     69+4|                77|        8|         15|        15|            16|         11|              53|           71|     72|        77+1|      73+1|     58|       57|       72+4|     76+3|           79|        74|            63|        67+3|     90|             64|      74|  78+2|     61|75.0|66.0|72.0|73.0|76.0|190765|75.0|70.0|66.0|76.0|72.0|73.0|75.0|70.0|74.0|73.0|         LM CM CAM |75.0|70.0|66.0|76.0|72.0|73.0|75.0|70.0|74.0|73.0|70.0|\n",
            "|1861|P. Cannavaro| 36|https://cdn.sofif...|              Italy|https://cdn.sofif...|     75|       75|            Sassuolo|https://cdn.sofif...|€900K|€30K|   1573|          34|        80|     59|     43|          60|       69|      39|   24|       45|       30|                24|       14|          8|         5|            14|          5|              78|           80|     80|          68|        51|     74|       47|         35|       66|           62|        72|            75|          31|     36|             76|      75|    50|     33|51.0|74.0|68.0|49.0|57.0|  1178|51.0|62.0|74.0|57.0|68.0|49.0|47.0|51.0|47.0|59.0|                CB |51.0|62.0|74.0|57.0|68.0|49.0|47.0|51.0|47.0|59.0|51.0|\n",
            "| 846|  I. Afellay| 31|https://cdn.sofif...|        Netherlands|https://cdn.sofif...|     78|       78|          Stoke City|https://cdn.sofif...|  €9M|€68K|   2027|          76|        59|     76|     77|          82|       78|      78|   79|       80|       71|                75|       14|          7|        10|            12|          8|              46|           62|     75|          74|        76|     36|       70|         73|       75|           81|        75|            58|          74|     70|             67|      64|    75|     72|77.0|60.0|68.0|76.0|76.0|158372|77.0|67.0|60.0|76.0|68.0|76.0|77.0|72.0|77.0|69.0|     CDM LM CM CAM |77.0|67.0|60.0|76.0|68.0|76.0|77.0|72.0|77.0|69.0|72.0|\n",
            "|4765|    T. Rogne| 27|https://cdn.sofif...|             Norway|https://cdn.sofif...|     71|       73|        IFK Göteborg|https://cdn.sofif...|€2.3M| €5K|   1530|          45|        67|     52|     46|        56-2|       67|      46|   37|       42|       15|                25|        9|          6|        14|            16|          8|            72-2|           74|     64|          64|        33|   74-4|       44|         36|       72|           57|        47|          65-2|          53|   60-4|           72-4|    81-3|    48|     30|48.0|70.0|66.0|46.0|55.0|185316|48.0|63.0|70.0|55.0|66.0|46.0|49.0|47.0|46.0|61.0|                CB |48.0|63.0|70.0|55.0|66.0|46.0|49.0|47.0|46.0|61.0|47.0|\n",
            "| 887|M. Fernández| 31|https://cdn.sofif...|              Chile|https://cdn.sofif...|     78|       78|              Necaxa|https://cdn.sofif...|  €9M|€17K|   2037|          79|        50|     79|     81|          87|       74|      78|   80|       89|       62|                82|       11|          8|         5|            10|         11|              50|           60|     66|          76|        78|     52|       72|         74|       74|           80|        80|            56|          73|     69|             60|      57|    78|     70|79.0|60.0|68.0|78.0|77.0|174549|79.0|67.0|60.0|77.0|68.0|78.0|79.0|72.0|79.0|70.0|             CF CM |79.0|67.0|60.0|77.0|68.0|78.0|79.0|72.0|79.0|70.0|72.0|\n",
            "|4213|    B. McKay| 22|https://cdn.sofif...|           Scotland|https://cdn.sofif...|     71|       80|   Nottingham Forest|https://cdn.sofif...|€3.6M|€20K|   1794|          89|        38|     91|     87|          70|       55|      61|   63|       73|       58|                65|       10|          9|        13|            14|         12|              37|           49|     58|          66|        69|     40|       50|         65|       68|           70|        60|            39|          88|     75|             36|      53|    71|     47|71.0|47.0|56.0|69.0|67.0|209729|71.0|57.0|47.0|67.0|56.0|69.0|71.0|63.0|71.0|60.0|       LM RM RW LW |71.0|57.0|47.0|67.0|56.0|69.0|71.0|63.0|71.0|60.0|63.0|\n",
            "|3014|    G. Loria| 31|https://cdn.sofif...|            Georgia|https://cdn.sofif...|     73|       73|FC Anzhi Makhachkala|https://cdn.sofif...|€2.4M|€17K|   1336|          50|        33|     53|     44|          25|       50|      26|   23|       27|       22|                17|       69|         71|        70|            75|         76|              34|           22|     68|          46|        22|     23|       26|         11|       68|           36|        19|            24|          54|     26|             22|      75|    55|     24|NULL|NULL|NULL|NULL|NULL|192910|NULL|NULL|NULL|NULL|NULL|NULL|NULL|NULL|NULL|NULL|                GK |NULL|NULL|NULL|NULL|NULL|NULL|NULL|NULL|NULL|NULL|NULL|\n",
            "|4189|   V. Afonin| 29|https://cdn.sofif...|         Uzbekistan|https://cdn.sofif...|     71|       71|FC Anzhi Makhachkala|https://cdn.sofif...|€1.8M|€15K|   1904|          62|        63|     71|     72|          63|       72|      73|   71|       65|       44|                76|        8|         11|        12|            11|          9|              56|           74|     62|          70|        67|     68|       52|         54|       73|           76|        68|            68|          65|     73|             69|      65|    69|     64|65.0|67.0|70.0|63.0|69.0|217657|65.0|69.0|67.0|69.0|70.0|63.0|66.0|60.0|64.0|70.0|            CB CDM |65.0|69.0|67.0|69.0|70.0|63.0|66.0|60.0|64.0|70.0|60.0|\n",
            "|2921| H. González| 26|https://cdn.sofif...|             Mexico|https://cdn.sofif...|     73|       76|           Monterrey|https://cdn.sofif...|€3.5M|€36K|   1195|          32|        27|     47|     41|          19|       40|      11|   25|       16|       11|                13|       74|         73|        69|            73|         76|              22|           19|     59|          23|        14|     14|       39|         11|       60|           36|        37|            14|          34|     45|             13|      73|    60|     15|NULL|NULL|NULL|NULL|NULL|186990|NULL|NULL|NULL|NULL|NULL|NULL|NULL|NULL|NULL|NULL|                GK |NULL|NULL|NULL|NULL|NULL|NULL|NULL|NULL|NULL|NULL|NULL|\n",
            "|2302|    S. Duffy| 25|https://cdn.sofif...|Republic of Ireland|https://cdn.sofif...|     74|       79|Brighton & Hove A...|https://cdn.sofif...|€6.5M|€38K|   1620|          49|        84|     32|     42|          57|       64|      38|   37|       39|       33|                33|        9|         11|        16|             8|         12|              74|           72|     86|          58|        49|     72|       55|         49|       66|           64|        55|            74|          52|     67|             70|      83|    44|     30|51.0|73.0|67.0|50.0|57.0|192622|51.0|64.0|73.0|57.0|67.0|50.0|51.0|53.0|48.0|62.0|                CB |51.0|64.0|73.0|57.0|67.0|50.0|51.0|53.0|48.0|62.0|53.0|\n",
            "|1041|  C. Sánchez| 31|https://cdn.sofif...|           Colombia|https://cdn.sofif...|     77|       77|          Fiorentina|https://cdn.sofif...|  €6M|€56K|   1940|          65|        80|     63|     47|          75|       74|      60|   52|       70|       48|                58|       11|          6|         7|            13|          7|              70|           78|     75|          76|        68|     68|       62|         58|       74|           78|        72|            70|          68|     84|             79|      87|    68|     43|69.0|76.0|76.0|67.0|73.0|182882|69.0|73.0|76.0|73.0|76.0|67.0|69.0|66.0|67.0|73.0|         CB CM CDM |69.0|73.0|76.0|73.0|76.0|67.0|69.0|66.0|67.0|73.0|66.0|\n",
            "|4790|    B. Raman| 22|https://cdn.sofif...|            Belgium|https://cdn.sofif...|     71|       77|  Fortuna Düsseldorf|https://cdn.sofif...|€3.2M|€10K|   1827|          92|        71|     89|     84|          71|       74|      64|   72|       73|       70|                67|       13|          8|        16|            10|          8|              66|           23|     84|          52|        72|     19|       65|         68|       69|           60|        69|            15|          92|     85|             20|      38|    56|     66|68.0|40.0|46.0|70.0|60.0|200429|68.0|50.0|40.0|60.0|46.0|70.0|70.0|69.0|72.0|53.0|          CF ST LM |68.0|50.0|40.0|60.0|46.0|70.0|70.0|69.0|72.0|53.0|69.0|\n",
            "|4279|  S. Malezas| 32|https://cdn.sofif...|             Greece|https://cdn.sofif...|     71|       71|   PAOK Thessaloniki|https://cdn.sofif...|€1.4M| €1K|   1498|          53|        70|     51|     39|          58|       69|      37|   34|       44|       26|                30|        9|         13|         8|             7|         10|              69|           71|     63|          56|        31|     74|       37|         24|       67|           58|        50|            73|          54|     59|             73|      77|    38|     35|47.0|70.0|65.0|46.0|53.0|172886|47.0|63.0|70.0|53.0|65.0|46.0|48.0|47.0|45.0|61.0|                CB |47.0|63.0|70.0|53.0|65.0|46.0|48.0|47.0|45.0|61.0|47.0|\n",
            "|1676|  G. Johnson| 32|https://cdn.sofif...|            England|https://cdn.sofif...|     75|       75|          Stoke City|https://cdn.sofif...|€3.7M|€52K|   2006|          74|        71|     72|     67|          77|       72|      75|   69|       78|       54|                54|       13|          7|         7|             6|          7|              68|           68|     77|          70|        70|     75|       60|         69|       74|           75|        79|            77|          69|     71|             76|      72|    69|     56|72.0|73.0|73.0|72.0|72.0|137782|72.0|74.0|73.0|72.0|73.0|72.0|73.0|69.0|72.0|74.0|                RB |72.0|74.0|73.0|72.0|73.0|72.0|73.0|69.0|72.0|74.0|69.0|\n",
            "|3687|    De Tomás| 22|https://cdn.sofif...|              Spain|https://cdn.sofif...|     72|       78|      Rayo Vallecano|https://cdn.sofif...|€4.3M|€75K|   1704|          66|        54|     71|     75|          69|       62|      50|   50|       65|       71|                73|        6|         11|        13|             7|         14|              71|           22|     75|          35|        74|     14|       75|         73|       62|           62|        82|            20|          72|     63|             16|      78|    48|     67|63.0|41.0|42.0|67.0|55.0|210315|63.0|43.0|41.0|55.0|42.0|67.0|62.0|71.0|65.0|46.0|                ST |63.0|43.0|41.0|55.0|42.0|67.0|62.0|71.0|65.0|46.0|71.0|\n",
            "+----+------------+---+--------------------+-------------------+--------------------+-------+---------+--------------------+--------------------+-----+----+-------+------------+----------+-------+-------+------------+---------+--------+-----+---------+---------+------------------+---------+-----------+----------+--------------+-----------+----------------+-------------+-------+------------+----------+-------+---------+-----------+---------+-------------+----------+--------------+------------+-------+---------------+--------+------+-------+----+----+----+----+----+------+----+----+----+----+----+----+----+----+----+----+-------------------+----+----+----+----+----+----+----+----+----+----+----+\n",
            "only showing top 20 rows\n",
            "\n"
          ]
        }
      ]
    },
    {
      "cell_type": "code",
      "source": [
        "# Transformation(FILTER)\n",
        "#df2.select(\"Overall\",\"Name\",\"Age\").filter(df2[\"Overall\"] > 70).show()\n",
        "df2.select(\"Overall\",\"Name\",\"Age\").where(df2[\"Overall\"] > 70).show()\n"
      ],
      "metadata": {
        "colab": {
          "base_uri": "https://localhost:8080/"
        },
        "id": "Z53VRyJ3JGDQ",
        "outputId": "a795ae30-1b47-4c0b-f9d8-7b12472fa0fd"
      },
      "execution_count": null,
      "outputs": [
        {
          "output_type": "stream",
          "name": "stdout",
          "text": [
            "+-------+------------------+---+\n",
            "|Overall|              Name|Age|\n",
            "+-------+------------------+---+\n",
            "|     81|      R. Guerreiro| 23|\n",
            "|     72|         A. Benali| 25|\n",
            "|     87|          A. Vidal| 30|\n",
            "|     71|     Marlion Rolim| 25|\n",
            "|     71|         I. Hayden| 22|\n",
            "|     71|      P. Rodríguez| 27|\n",
            "|     73|        T. Carroll| 25|\n",
            "|     76|        G. Mercado| 30|\n",
            "|     83|         K. Walker| 27|\n",
            "|     71|            Martos| 33|\n",
            "|     71|    Martin Cordeia| 33|\n",
            "|     73|              Tito| 31|\n",
            "|     71|K. Vandendriessche| 27|\n",
            "|     78|           Muniain| 24|\n",
            "|     75|    Allan Bardinho| 25|\n",
            "|     72|   A. Martín Arias| 24|\n",
            "|     71|       M. Albornoz| 26|\n",
            "|     71|       V. Fayzulin| 31|\n",
            "|     74|          C. Obasi| 31|\n",
            "|     74|      G. Karadeniz| 37|\n",
            "+-------+------------------+---+\n",
            "only showing top 20 rows\n",
            "\n"
          ]
        }
      ]
    },
    {
      "cell_type": "code",
      "source": [
        "# Transformation(FILTER)\n",
        "\n",
        "df2.where(df2[\"Overall\"] > 70).groupBy(\"Age\").count().sort(\"Age\").show()\n",
        "\n"
      ],
      "metadata": {
        "id": "PXORV7koFMRi",
        "colab": {
          "base_uri": "https://localhost:8080/"
        },
        "outputId": "b5bfcf12-cf28-4c43-ddfa-a0b4fb0390be"
      },
      "execution_count": null,
      "outputs": [
        {
          "output_type": "stream",
          "name": "stdout",
          "text": [
            "+---+-----+\n",
            "|Age|count|\n",
            "+---+-----+\n",
            "| 17|    1|\n",
            "| 18|   13|\n",
            "| 19|   41|\n",
            "| 20|  105|\n",
            "| 21|  160|\n",
            "| 22|  246|\n",
            "| 23|  296|\n",
            "| 24|  369|\n",
            "| 25|  486|\n",
            "| 26|  418|\n",
            "| 27|  444|\n",
            "| 28|  395|\n",
            "| 29|  474|\n",
            "| 30|  359|\n",
            "| 31|  272|\n",
            "| 32|  206|\n",
            "| 33|  283|\n",
            "| 34|  101|\n",
            "| 35|   74|\n",
            "| 36|   57|\n",
            "+---+-----+\n",
            "only showing top 20 rows\n",
            "\n"
          ]
        }
      ]
    },
    {
      "cell_type": "code",
      "source": [
        "#Visualize the results\n",
        "df2_result=df2.where(df2[\"Overall\"] > 70).groupBy(\"Age\").count().sort(\"Age\")\n",
        "pandas_df=df2_result.toPandas()\n",
        "pandas_df.plot(x=\"Age\",y=\"count\", kind=\"bar\")"
      ],
      "metadata": {
        "colab": {
          "base_uri": "https://localhost:8080/",
          "height": 470
        },
        "id": "iMA0SEGJwfn-",
        "outputId": "4cc36f6a-565b-4257-fa51-108f6110e0ba"
      },
      "execution_count": null,
      "outputs": [
        {
          "output_type": "execute_result",
          "data": {
            "text/plain": [
              "<Axes: xlabel='Age'>"
            ]
          },
          "metadata": {},
          "execution_count": 47
        },
        {
          "output_type": "display_data",
          "data": {
            "text/plain": [
              "<Figure size 640x480 with 1 Axes>"
            ],
            "image/png": "[encoded data removed]"
          },
          "metadata": {}
        }
      ]
    },
    {
      "cell_type": "code",
      "source": [
        "pandas_df.sort_values(by=\"count\", ascending=False).plot(x=\"Age\",y=\"count\", kind=\"bar\")"
      ],
      "metadata": {
        "colab": {
          "base_uri": "https://localhost:8080/",
          "height": 470
        },
        "id": "v-nGeMwvwf5C",
        "outputId": "b2d79795-faaf-4f7d-e86d-0a6a199c06de"
      },
      "execution_count": null,
      "outputs": [
        {
          "output_type": "execute_result",
          "data": {
            "text/plain": [
              "<Axes: xlabel='Age'>"
            ]
          },
          "metadata": {},
          "execution_count": 48
        },
        {
          "output_type": "display_data",
          "data": {
            "text/plain": [
              "<Figure size 640x480 with 1 Axes>"
            ],
            "image/png": "[encoded data removed]"
          },
          "metadata": {}
        }
      ]
    },
    {
      "cell_type": "code",
      "source": [
        "#ADVANCED DF OPERATIONS - SPARK SQL AND UDF\n",
        "#Spark SQL (Register Df with a local temporary View)"
      ],
      "metadata": {
        "id": "czFwQ8hcwgB0"
      },
      "execution_count": null,
      "outputs": []
    },
    {
      "cell_type": "code",
      "source": [
        "df2.createOrReplaceTempView(\"df_football\")"
      ],
      "metadata": {
        "id": "jZsbIB6nwgKy"
      },
      "execution_count": null,
      "outputs": []
    },
    {
      "cell_type": "code",
      "source": [
        "#SQL query\n",
        "sql_query=\"\"\"SELECT Age, count(*) as Count\n",
        "                    FROM df_football\n",
        "                    WHERE Overall > 70\n",
        "                    GROUP BY Age\n",
        "                    ORDER BY Age\"\"\"\n",
        "result=spark.sql(sql_query)\n",
        "result.show()"
      ],
      "metadata": {
        "colab": {
          "base_uri": "https://localhost:8080/"
        },
        "id": "koATNLW0FTYB",
        "outputId": "c0f817fd-5b7c-4633-ed2d-3bd0e6188db5"
      },
      "execution_count": null,
      "outputs": [
        {
          "output_type": "stream",
          "name": "stdout",
          "text": [
            "+---+-----+\n",
            "|Age|Count|\n",
            "+---+-----+\n",
            "| 17|    1|\n",
            "| 18|   13|\n",
            "| 19|   41|\n",
            "| 20|  105|\n",
            "| 21|  160|\n",
            "| 22|  246|\n",
            "| 23|  296|\n",
            "| 24|  369|\n",
            "| 25|  486|\n",
            "| 26|  418|\n",
            "| 27|  444|\n",
            "| 28|  395|\n",
            "| 29|  474|\n",
            "| 30|  359|\n",
            "| 31|  272|\n",
            "| 32|  206|\n",
            "| 33|  283|\n",
            "| 34|  101|\n",
            "| 35|   74|\n",
            "| 36|   57|\n",
            "+---+-----+\n",
            "only showing top 20 rows\n",
            "\n"
          ]
        }
      ]
    },
    {
      "cell_type": "code",
      "source": [
        "#UDF - User Defined Functions\n",
        "def uppercase_converter(record):\n",
        "  if len(record) > 10:\n",
        "    return record.upper()\n",
        "  else:\n",
        "    return record.lower()\n",
        "\n",
        "# register the DF\n",
        "df2.createOrReplaceTempView(\"UDF_football\")\n",
        "\n",
        "# register the function\n",
        "spark.udf.register(\"UPPER\", uppercase_converter)\n",
        "\n",
        "# Use the UDF in SQL\n",
        "sql_query= \"SELECT Age, UPPER(Name) as Name, UPPER(club) as Club FROM UDF_football\"\n",
        "\n",
        "result= spark.sql(sql_query)\n",
        "result.show()"
      ],
      "metadata": {
        "colab": {
          "base_uri": "https://localhost:8080/"
        },
        "id": "3zxE-ry8FTmP",
        "outputId": "5bd29f22-81b1-4e29-8280-f846036b0bfd"
      },
      "execution_count": null,
      "outputs": [
        {
          "output_type": "stream",
          "name": "stdout",
          "text": [
            "+---+-----------------+--------------------+\n",
            "|Age|             Name|                Club|\n",
            "+---+-----------------+--------------------+\n",
            "| 26|         v. moren|    WAASLAND-BEVEREN|\n",
            "| 33|        c. agoste|UNIVERSIDAD CATÓLICA|\n",
            "| 19|    STEVEN PRIETO|         REAL OVIEDO|\n",
            "| 21|        c. alemán|ESTUDIANTES DE LA...|\n",
            "| 27|       p. wiegers|   SG DYNAMO DRESDEN|\n",
            "| 26|     H. YAMAGUCHI|        CEREZO OSAKA|\n",
            "| 29|    D. MCGOLDRICK|        IPSWICH TOWN|\n",
            "| 24|       r. teibert|VANCOUVER WHITECA...|\n",
            "| 20|          i. radu|            avellino|\n",
            "| 28|   P. ABRAHAMSSON|           bk häcken|\n",
            "| 21|       c. burgess|   SCUNTHORPE UNITED|\n",
            "| 31|            galán|      RAYO VALLECANO|\n",
            "| 25|       r. andrero|      AUDAX ITALIANO|\n",
            "| 31|         m. topal|       FENERBAHÇE SK|\n",
            "| 23|        l. moneta|      LEGIA WARSZAWA|\n",
            "| 21|        t. szántó|       SK RAPID WIEN|\n",
            "| 23|          y. njie|         BOAVISTA FC|\n",
            "| 20|     AARÓN MARTÍN|        RCD ESPANYOL|\n",
            "| 23|K. FRIESENBICHLER|     FK AUSTRIA WIEN|\n",
            "| 20|       a. mayorga|         GUADALAJARA|\n",
            "+---+-----------------+--------------------+\n",
            "only showing top 20 rows\n",
            "\n"
          ]
        }
      ]
    },
    {
      "cell_type": "code",
      "source": [],
      "metadata": {
        "id": "4s6uEQd-FTvX"
      },
      "execution_count": null,
      "outputs": []
    }
  ]
}