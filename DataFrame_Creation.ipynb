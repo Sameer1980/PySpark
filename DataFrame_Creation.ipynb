{
  "nbformat": 4,
  "nbformat_minor": 0,
  "metadata": {
    "colab": {
      "provenance": []
    },
    "kernelspec": {
      "name": "python3",
      "display_name": "Python 3"
    },
    "language_info": {
      "name": "python"
    }
  },
  "cells": [
    {
      "cell_type": "code",
      "execution_count": null,
      "metadata": {
        "id": "c6L1MpOrTIsu"
      },
      "outputs": [],
      "source": [
        "columns = [\"language\",\"users_count\"]\n",
        "data = [(\"Java\", \"20000\"), (\"Python\", \"100000\"), (\"Scala\", \"3000\")]"
      ]
    },
    {
      "cell_type": "code",
      "source": [
        "from pyspark.sql import SparkSession\n",
        "spark = SparkSession.builder.appName('SparkByExamples.com').getOrCreate()"
      ],
      "metadata": {
        "id": "bFEpWwpP-x4W"
      },
      "execution_count": null,
      "outputs": []
    },
    {
      "cell_type": "code",
      "source": [
        "rdd = spark.sparkContext.parallelize(data)"
      ],
      "metadata": {
        "id": "b5ZWPXO6_NY3"
      },
      "execution_count": null,
      "outputs": []
    },
    {
      "cell_type": "code",
      "source": [
        "dfFromRDD1 = rdd.toDF()\n",
        "dfFromRDD1.printSchema()\n"
      ],
      "metadata": {
        "colab": {
          "base_uri": "https://localhost:8080/"
        },
        "id": "DHNLGKG-_Nol",
        "outputId": "a732d8cc-3435-4527-952e-9da9a5c15809"
      },
      "execution_count": null,
      "outputs": [
        {
          "output_type": "stream",
          "name": "stdout",
          "text": [
            "root\n",
            " |-- _1: string (nullable = true)\n",
            " |-- _2: string (nullable = true)\n",
            "\n"
          ]
        }
      ]
    },
    {
      "cell_type": "code",
      "source": [
        "columns = [\"language\",\"users_count\"]\n",
        "dfFromRDD1 = rdd.toDF(columns)\n",
        "dfFromRDD1.printSchema()\n",
        "dfFromRDD1.show()"
      ],
      "metadata": {
        "colab": {
          "base_uri": "https://localhost:8080/"
        },
        "id": "THOCgFSs_N2q",
        "outputId": "38593252-1544-41d0-fa39-1e2d80754b26"
      },
      "execution_count": null,
      "outputs": [
        {
          "output_type": "stream",
          "name": "stdout",
          "text": [
            "root\n",
            " |-- language: string (nullable = true)\n",
            " |-- users_count: string (nullable = true)\n",
            "\n",
            "+--------+-----------+\n",
            "|language|users_count|\n",
            "+--------+-----------+\n",
            "|    Java|      20000|\n",
            "|  Python|     100000|\n",
            "|   Scala|       3000|\n",
            "+--------+-----------+\n",
            "\n"
          ]
        }
      ]
    },
    {
      "cell_type": "code",
      "source": [
        "\n",
        "dfFromRDD2 = spark.createDataFrame(rdd).toDF(*columns)\n",
        "dfFromRDD2.show()"
      ],
      "metadata": {
        "colab": {
          "base_uri": "https://localhost:8080/"
        },
        "id": "JzJB1WZ4_OAc",
        "outputId": "c6c79e7c-9ee5-49d2-88a3-f25366af7a73"
      },
      "execution_count": null,
      "outputs": [
        {
          "output_type": "stream",
          "name": "stdout",
          "text": [
            "+--------+-----------+\n",
            "|language|users_count|\n",
            "+--------+-----------+\n",
            "|    Java|      20000|\n",
            "|  Python|     100000|\n",
            "|   Scala|       3000|\n",
            "+--------+-----------+\n",
            "\n"
          ]
        }
      ]
    },
    {
      "cell_type": "code",
      "source": [
        "from pyspark.sql import Row\n",
        "rowData = map(lambda x: Row(*x), data)\n",
        "dfFromData3 = spark.createDataFrame(rowData,columns)\n",
        "dfFromData3.show()"
      ],
      "metadata": {
        "colab": {
          "base_uri": "https://localhost:8080/"
        },
        "id": "8LJfgDMQCHyZ",
        "outputId": "f6fb58eb-3c04-4ffa-c564-aae22e0724b3"
      },
      "execution_count": null,
      "outputs": [
        {
          "output_type": "stream",
          "name": "stdout",
          "text": [
            "+--------+-----------+\n",
            "|language|users_count|\n",
            "+--------+-----------+\n",
            "|    Java|      20000|\n",
            "|  Python|     100000|\n",
            "|   Scala|       3000|\n",
            "+--------+-----------+\n",
            "\n"
          ]
        }
      ]
    },
    {
      "cell_type": "code",
      "source": [
        "from datetime import datetime, date\n",
        "import pandas as pd\n",
        "from pyspark.sql import Row\n",
        "\n",
        "df = spark.createDataFrame([\n",
        "    Row(a=1, b=2., c='string1', d=date(2000, 1, 1), e=datetime(2000, 1, 1, 12, 0)),\n",
        "    Row(a=2, b=3., c='string2', d=date(2000, 2, 1), e=datetime(2000, 1, 2, 12, 0)),\n",
        "    Row(a=4, b=5., c='string3', d=date(2000, 3, 1), e=datetime(2000, 1, 3, 12, 0))\n",
        "])\n",
        "df.show()"
      ],
      "metadata": {
        "colab": {
          "base_uri": "https://localhost:8080/"
        },
        "id": "ommNPCwiC25p",
        "outputId": "dd6ededc-2025-468b-e4f0-60f552ef3f7e"
      },
      "execution_count": null,
      "outputs": [
        {
          "output_type": "stream",
          "name": "stdout",
          "text": [
            "+---+---+-------+----------+-------------------+\n",
            "|  a|  b|      c|         d|                  e|\n",
            "+---+---+-------+----------+-------------------+\n",
            "|  1|2.0|string1|2000-01-01|2000-01-01 12:00:00|\n",
            "|  2|3.0|string2|2000-02-01|2000-01-02 12:00:00|\n",
            "|  4|5.0|string3|2000-03-01|2000-01-03 12:00:00|\n",
            "+---+---+-------+----------+-------------------+\n",
            "\n"
          ]
        }
      ]
    },
    {
      "cell_type": "code",
      "source": [
        "df = spark.createDataFrame([\n",
        "    (1, 2., 'string1', date(2000, 1, 1), datetime(2000, 1, 1, 12, 0)),\n",
        "    (2, 3., 'string2', date(2000, 2, 1), datetime(2000, 1, 2, 12, 0)),\n",
        "    (3, 4., 'string3', date(2000, 3, 1), datetime(2000, 1, 3, 12, 0))\n",
        "], schema='a long, b double, c string, d date, e timestamp')\n",
        "df.show()"
      ],
      "metadata": {
        "colab": {
          "base_uri": "https://localhost:8080/"
        },
        "id": "msGBfkp1DkET",
        "outputId": "9645fc14-6d78-4d8f-c812-2650deb9cd5c"
      },
      "execution_count": null,
      "outputs": [
        {
          "output_type": "stream",
          "name": "stdout",
          "text": [
            "+---+---+-------+----------+-------------------+\n",
            "|  a|  b|      c|         d|                  e|\n",
            "+---+---+-------+----------+-------------------+\n",
            "|  1|2.0|string1|2000-01-01|2000-01-01 12:00:00|\n",
            "|  2|3.0|string2|2000-02-01|2000-01-02 12:00:00|\n",
            "|  3|4.0|string3|2000-03-01|2000-01-03 12:00:00|\n",
            "+---+---+-------+----------+-------------------+\n",
            "\n"
          ]
        }
      ]
    },
    {
      "cell_type": "code",
      "source": [
        "pandas_df = pd.DataFrame({\n",
        "    'a': [1, 2, 3],\n",
        "    'b': [2., 3., 4.],\n",
        "    'c': ['string1', 'string2', 'string3'],\n",
        "    'd': [date(2000, 1, 1), date(2000, 2, 1), date(2000, 3, 1)],\n",
        "    'e': [datetime(2000, 1, 1, 12, 0), datetime(2000, 1, 2, 12, 0), datetime(2000, 1, 3, 12, 0)]\n",
        "})\n",
        "df = spark.createDataFrame(pandas_df)\n",
        "df.show()"
      ],
      "metadata": {
        "colab": {
          "base_uri": "https://localhost:8080/"
        },
        "id": "gOgAW8ZfGYCo",
        "outputId": "3a28ad47-201f-4b4f-a127-78e712bbcd7c"
      },
      "execution_count": null,
      "outputs": [
        {
          "output_type": "stream",
          "name": "stdout",
          "text": [
            "+---+---+-------+----------+-------------------+\n",
            "|  a|  b|      c|         d|                  e|\n",
            "+---+---+-------+----------+-------------------+\n",
            "|  1|2.0|string1|2000-01-01|2000-01-01 12:00:00|\n",
            "|  2|3.0|string2|2000-02-01|2000-01-02 12:00:00|\n",
            "|  3|4.0|string3|2000-03-01|2000-01-03 12:00:00|\n",
            "+---+---+-------+----------+-------------------+\n",
            "\n"
          ]
        }
      ]
    },
    {
      "cell_type": "code",
      "source": [
        "csv_df=spark.read.csv(\"/content/sample_data/CompleteDataset.csv\",header=True)\n",
        "csv_df.show()\n"
      ],
      "metadata": {
        "colab": {
          "base_uri": "https://localhost:8080/"
        },
        "id": "NyTqup7nHJmu",
        "outputId": "b71b795a-fbc2-4b05-db55-578b6bc6374b"
      },
      "execution_count": null,
      "outputs": [
        {
          "output_type": "stream",
          "name": "stdout",
          "text": [
            "+---+-----------------+---+--------------------+-----------+--------------------+-------+---------+-------------------+--------------------+------+-----+-------+------------+----------+-------+-------+------------+---------+--------+-----+---------+---------+------------------+---------+-----------+----------+--------------+-----------+----------------+-------------+-------+------------+----------+-------+---------+-----------+---------+-------------+----------+--------------+------------+-------+---------------+--------+------+-------+----+----+----+----+----+------+----+----+----+----+----+----+----+----+----+----+-------------------+----+----+----+----+----+----+----+----+----+----+----+\n",
            "|_c0|             Name|Age|               Photo|Nationality|                Flag|Overall|Potential|               Club|           Club Logo| Value| Wage|Special|Acceleration|Aggression|Agility|Balance|Ball control|Composure|Crossing|Curve|Dribbling|Finishing|Free kick accuracy|GK diving|GK handling|GK kicking|GK positioning|GK reflexes|Heading accuracy|Interceptions|Jumping|Long passing|Long shots|Marking|Penalties|Positioning|Reactions|Short passing|Shot power|Sliding tackle|Sprint speed|Stamina|Standing tackle|Strength|Vision|Volleys| CAM|  CB| CDM|  CF|  CM|    ID| LAM|  LB| LCB| LCM| LDM|  LF|  LM|  LS|  LW| LWB|Preferred Positions| RAM|  RB| RCB| RCM| RDM|  RF|  RM|  RS|  RW| RWB|  ST|\n",
            "+---+-----------------+---+--------------------+-----------+--------------------+-------+---------+-------------------+--------------------+------+-----+-------+------------+----------+-------+-------+------------+---------+--------+-----+---------+---------+------------------+---------+-----------+----------+--------------+-----------+----------------+-------------+-------+------------+----------+-------+---------+-----------+---------+-------------+----------+--------------+------------+-------+---------------+--------+------+-------+----+----+----+----+----+------+----+----+----+----+----+----+----+----+----+----+-------------------+----+----+----+----+----+----+----+----+----+----+----+\n",
            "|  0|Cristiano Ronaldo| 32|https://cdn.sofif...|   Portugal|https://cdn.sofif...|     94|       94|     Real Madrid CF|https://cdn.sofif...|€95.5M|€565K|   2228|          89|        63|     89|     63|          93|       95|      85|   81|       91|       94|                76|        7|         11|        15|            14|         11|              88|           29|     95|          77|        92|     22|       85|         95|       96|           83|        94|            23|          91|     92|             31|      80|    85|     88|89.0|53.0|62.0|91.0|82.0| 20801|89.0|61.0|53.0|82.0|62.0|91.0|89.0|92.0|91.0|66.0|             ST LW |89.0|61.0|53.0|82.0|62.0|91.0|89.0|92.0|91.0|66.0|92.0|\n",
            "|  1|         L. Messi| 30|https://cdn.sofif...|  Argentina|https://cdn.sofif...|     93|       93|       FC Barcelona|https://cdn.sofif...| €105M|€565K|   2154|          92|        48|     90|     95|          95|       96|      77|   89|       97|       95|                90|        6|         11|        15|            14|          8|              71|           22|     68|          87|        88|     13|       74|         93|       95|           88|        85|            26|          87|     73|             28|      59|    90|     85|92.0|45.0|59.0|92.0|84.0|158023|92.0|57.0|45.0|84.0|59.0|92.0|90.0|88.0|91.0|62.0|                RW |92.0|57.0|45.0|84.0|59.0|92.0|90.0|88.0|91.0|62.0|88.0|\n",
            "|  2|           Neymar| 25|https://cdn.sofif...|     Brazil|https://cdn.sofif...|     92|       94|Paris Saint-Germain|https://cdn.sofif...| €123M|€280K|   2100|          94|        56|     96|     82|          95|       92|      75|   81|       96|       89|                84|        9|          9|        15|            15|         11|              62|           36|     61|          75|        77|     21|       81|         90|       88|           81|        80|            33|          90|     78|             24|      53|    80|     83|88.0|46.0|59.0|88.0|79.0|190871|88.0|59.0|46.0|79.0|59.0|88.0|87.0|84.0|89.0|64.0|                LW |88.0|59.0|46.0|79.0|59.0|88.0|87.0|84.0|89.0|64.0|84.0|\n",
            "|  3|        L. Suárez| 30|https://cdn.sofif...|    Uruguay|https://cdn.sofif...|     92|       92|       FC Barcelona|https://cdn.sofif...|  €97M|€510K|   2291|          88|        78|     86|     60|          91|       83|      77|   86|       86|       94|                84|       27|         25|        31|            33|         37|              77|           41|     69|          64|        86|     30|       85|         92|       93|           83|        87|            38|          77|     89|             45|      80|    84|     88|87.0|58.0|65.0|88.0|80.0|176580|87.0|64.0|58.0|80.0|65.0|88.0|85.0|88.0|87.0|68.0|                ST |87.0|64.0|58.0|80.0|65.0|88.0|85.0|88.0|87.0|68.0|88.0|\n",
            "|  4|         M. Neuer| 31|https://cdn.sofif...|    Germany|https://cdn.sofif...|     92|       92|   FC Bayern Munich|https://cdn.sofif...|  €61M|€230K|   1493|          58|        29|     52|     35|          48|       70|      15|   14|       30|       13|                11|       91|         90|        95|            91|         89|              25|           30|     78|          59|        16|     10|       47|         12|       85|           55|        25|            11|          61|     44|             10|      83|    70|     11|NULL|NULL|NULL|NULL|NULL|167495|NULL|NULL|NULL|NULL|NULL|NULL|NULL|NULL|NULL|NULL|                GK |NULL|NULL|NULL|NULL|NULL|NULL|NULL|NULL|NULL|NULL|NULL|\n",
            "|  5|   R. Lewandowski| 28|https://cdn.sofif...|     Poland|https://cdn.sofif...|     91|       91|   FC Bayern Munich|https://cdn.sofif...|  €92M|€355K|   2143|          79|        80|     78|     80|          89|       87|      62|   77|       85|       91|                84|       15|          6|        12|             8|         10|              85|           39|     84|          65|        83|     25|       81|         91|       91|           83|        88|            19|          83|     79|             42|      84|    78|     87|84.0|57.0|62.0|87.0|78.0|188545|84.0|58.0|57.0|78.0|62.0|87.0|82.0|88.0|84.0|61.0|                ST |84.0|58.0|57.0|78.0|62.0|87.0|82.0|88.0|84.0|61.0|88.0|\n",
            "|  6|           De Gea| 26|https://cdn.sofif...|      Spain|https://cdn.sofif...|     90|       92|  Manchester United|https://cdn.sofif...|€64.5M|€215K|   1458|          57|        38|     60|     43|          42|       64|      17|   21|       18|       13|                19|       90|         85|        87|            86|         90|              21|           30|     67|          51|        12|     13|       40|         12|       88|           50|        31|            13|          58|     40|             21|      64|    68|     13|NULL|NULL|NULL|NULL|NULL|193080|NULL|NULL|NULL|NULL|NULL|NULL|NULL|NULL|NULL|NULL|                GK |NULL|NULL|NULL|NULL|NULL|NULL|NULL|NULL|NULL|NULL|NULL|\n",
            "|  7|        E. Hazard| 26|https://cdn.sofif...|    Belgium|https://cdn.sofif...|     90|       91|            Chelsea|https://cdn.sofif...|€90.5M|€295K|   2096|          93|        54|     93|     91|          92|       87|      80|   82|       93|       83|                79|       11|         12|         6|             8|          8|              57|           41|     59|          81|        82|     25|       86|         85|       85|           86|        79|            22|          87|     79|             27|      65|    86|     79|88.0|47.0|61.0|87.0|81.0|183277|88.0|59.0|47.0|81.0|61.0|87.0|87.0|82.0|88.0|64.0|                LW |88.0|59.0|47.0|81.0|61.0|87.0|87.0|82.0|88.0|64.0|82.0|\n",
            "|  8|         T. Kroos| 27|https://cdn.sofif...|    Germany|https://cdn.sofif...|     90|       90|     Real Madrid CF|https://cdn.sofif...|  €79M|€340K|   2165|          60|        60|     71|     69|          89|       85|      85|   85|       79|       76|                84|       10|         11|        13|             7|         10|              54|           85|     32|          93|        90|     63|       73|         79|       86|           90|        87|            69|          52|     77|             82|      74|    88|     82|83.0|72.0|82.0|81.0|87.0|182521|83.0|76.0|72.0|87.0|82.0|81.0|81.0|77.0|80.0|78.0|            CDM CM |83.0|76.0|72.0|87.0|82.0|81.0|81.0|77.0|80.0|78.0|77.0|\n",
            "|  9|       G. Higuaín| 29|https://cdn.sofif...|  Argentina|https://cdn.sofif...|     90|       90|           Juventus|https://cdn.sofif...|  €77M|€275K|   1961|          78|        50|     75|     69|          85|       86|      68|   74|       84|       91|                62|        5|         12|         7|             5|         10|              86|           20|     79|          59|        82|     12|       70|         92|       88|           75|        88|            18|          80|     72|             22|      85|    70|     88|81.0|46.0|52.0|84.0|71.0|167664|81.0|51.0|46.0|71.0|52.0|84.0|79.0|87.0|82.0|55.0|                ST |81.0|51.0|46.0|71.0|52.0|84.0|79.0|87.0|82.0|55.0|87.0|\n",
            "| 10|     Sergio Ramos| 31|https://cdn.sofif...|      Spain|https://cdn.sofif...|     90|       90|     Real Madrid CF|https://cdn.sofif...|  €52M|€310K|   2153|          75|        84|     79|     60|          84|       80|      66|   73|       61|       60|                67|       11|          8|         9|             7|         11|              91|           88|     93|          72|        55|     86|       68|         52|       85|           78|        79|            91|          77|     84|             89|      81|    63|     66|70.0|87.0|83.0|70.0|74.0|155862|70.0|84.0|87.0|74.0|83.0|70.0|71.0|72.0|69.0|81.0|                CB |70.0|84.0|87.0|74.0|83.0|70.0|71.0|72.0|69.0|81.0|72.0|\n",
            "| 11|     K. De Bruyne| 26|https://cdn.sofif...|    Belgium|https://cdn.sofif...|     89|       92|    Manchester City|https://cdn.sofif...|  €83M|€285K|   2162|          76|        68|     80|     75|          87|       84|      90|   83|       85|       83|                83|       15|         13|         5|            10|         13|              53|           56|     65|          84|        86|     30|       77|         84|       88|           90|        85|            40|          75|     87|             51|      73|    90|     82|86.0|57.0|70.0|85.0|84.0|192985|86.0|66.0|57.0|84.0|70.0|85.0|85.0|81.0|85.0|71.0|         RM CM CAM |86.0|66.0|57.0|84.0|70.0|85.0|85.0|81.0|85.0|71.0|81.0|\n",
            "| 12|      T. Courtois| 25|https://cdn.sofif...|    Belgium|https://cdn.sofif...|     89|       92|            Chelsea|https://cdn.sofif...|  €59M|€190K|   1282|          46|        23|     61|     45|          23|       52|      14|   19|       13|       14|                11|       85|         91|        69|            86|         88|              13|           15|     68|          31|        17|     11|       27|         13|       81|           32|        36|            16|          52|     38|             18|      70|    44|     12|NULL|NULL|NULL|NULL|NULL|192119|NULL|NULL|NULL|NULL|NULL|NULL|NULL|NULL|NULL|NULL|                GK |NULL|NULL|NULL|NULL|NULL|NULL|NULL|NULL|NULL|NULL|NULL|\n",
            "| 13|       A. Sánchez| 28|https://cdn.sofif...|      Chile|https://cdn.sofif...|     89|       89|            Arsenal|https://cdn.sofif...|€67.5M|€265K|   2181|          88|        80|     90|     87|          87|       86|      80|   78|       90|       85|                78|       10|         10|        15|            12|         13|              70|           42|     85|          73|        82|     30|       77|         86|       87|           81|        84|            35|          84|     85|             39|      72|    83|     83|85.0|56.0|64.0|85.0|79.0|184941|85.0|62.0|56.0|79.0|64.0|85.0|85.0|83.0|86.0|66.0|       RM LW ST LM |85.0|62.0|56.0|79.0|64.0|85.0|85.0|83.0|86.0|66.0|83.0|\n",
            "| 14|        L. Modrić| 31|https://cdn.sofif...|    Croatia|https://cdn.sofif...|     89|       89|     Real Madrid CF|https://cdn.sofif...|  €57M|€340K|   2228|          75|        62|     93|     94|          92|       84|      78|   79|       86|       71|                77|       13|          9|         7|            14|          9|              55|           76|     67|          83|        82|     66|       80|         79|       88|           92|        73|            73|          71|     82|             80|      58|    90|     74|86.0|72.0|80.0|83.0|86.0|177003|86.0|78.0|72.0|86.0|80.0|83.0|84.0|76.0|83.0|80.0|            CDM CM |86.0|78.0|72.0|86.0|80.0|83.0|84.0|76.0|83.0|80.0|76.0|\n",
            "| 15|          G. Bale| 27|https://cdn.sofif...|      Wales|https://cdn.sofif...|     89|       89|     Real Madrid CF|https://cdn.sofif...|€69.5M|€370K|   2263|          93|        65|     77|     65|          87|       85|      87|   86|       89|       87|                85|       15|         15|        11|             5|          6|              86|           59|     85|          80|        90|     51|       76|         86|       87|           86|        91|            52|          95|     76|             55|      80|    79|     76|86.0|67.0|71.0|87.0|81.0|173731|86.0|72.0|67.0|81.0|71.0|87.0|87.0|87.0|87.0|74.0|                RW |86.0|72.0|67.0|81.0|71.0|87.0|87.0|87.0|87.0|74.0|87.0|\n",
            "| 16|        S. Agüero| 29|https://cdn.sofif...|  Argentina|https://cdn.sofif...|     89|       89|    Manchester City|https://cdn.sofif...|€66.5M|€325K|   2074|          90|        63|     86|     91|          89|       90|      70|   82|       89|       90|                72|       13|         15|         6|            11|         14|              68|           24|     80|          63|        83|     13|       83|         91|       89|           79|        88|            12|          84|     74|             20|      74|    83|     85|85.0|44.0|54.0|87.0|75.0|153079|85.0|52.0|44.0|75.0|54.0|87.0|84.0|86.0|86.0|57.0|                ST |85.0|52.0|44.0|75.0|54.0|87.0|84.0|86.0|86.0|57.0|86.0|\n",
            "| 17|     G. Chiellini| 32|https://cdn.sofif...|      Italy|https://cdn.sofif...|     89|       89|           Juventus|https://cdn.sofif...|  €38M|€225K|   1867|          68|        92|     59|     64|          57|       82|      58|   60|       58|       33|                31|        3|          3|         2|             4|          3|              84|           88|     89|          59|        49|     92|       50|         28|       82|           59|        78|            90|          78|     68|             92|      91|    50|     45|55.0|86.0|76.0|55.0|60.0|138956|55.0|78.0|86.0|60.0|76.0|55.0|58.0|59.0|56.0|75.0|                CB |55.0|78.0|86.0|60.0|76.0|55.0|58.0|59.0|56.0|75.0|59.0|\n",
            "| 18|        G. Buffon| 39|https://cdn.sofif...|      Italy|https://cdn.sofif...|     89|       89|           Juventus|https://cdn.sofif...| €4.5M|€110K|   1335|          49|        38|     55|     49|          28|       70|      13|   20|       26|       15|                13|       89|         88|        74|            90|         84|              13|           28|     75|          35|        13|     10|       22|         12|       80|           37|        39|            11|          43|     39|             11|      69|    50|     17|NULL|NULL|NULL|NULL|NULL|  1179|NULL|NULL|NULL|NULL|NULL|NULL|NULL|NULL|NULL|NULL|                GK |NULL|NULL|NULL|NULL|NULL|NULL|NULL|NULL|NULL|NULL|NULL|\n",
            "| 19|        P. Dybala| 23|https://cdn.sofif...|  Argentina|https://cdn.sofif...|     88|       93|           Juventus|https://cdn.sofif...|  €79M|€215K|   2063|          88|        48|     91|     85|          93|       84|      80|   88|       92|       85|                84|        5|          4|         4|             5|          8|              68|           24|     75|          71|        88|     14|       86|         84|       84|           83|        82|            20|          84|     83|             20|      65|    84|     88|86.0|43.0|55.0|86.0|78.0|211110|86.0|55.0|43.0|78.0|55.0|86.0|86.0|83.0|87.0|60.0|            ST CAM |86.0|55.0|43.0|78.0|55.0|86.0|86.0|83.0|87.0|60.0|83.0|\n",
            "+---+-----------------+---+--------------------+-----------+--------------------+-------+---------+-------------------+--------------------+------+-----+-------+------------+----------+-------+-------+------------+---------+--------+-----+---------+---------+------------------+---------+-----------+----------+--------------+-----------+----------------+-------------+-------+------------+----------+-------+---------+-----------+---------+-------------+----------+--------------+------------+-------+---------------+--------+------+-------+----+----+----+----+----+------+----+----+----+----+----+----+----+----+----+----+-------------------+----+----+----+----+----+----+----+----+----+----+----+\n",
            "only showing top 20 rows\n",
            "\n"
          ]
        }
      ]
    },
    {
      "cell_type": "code",
      "source": [
        "text_df=spark.read.text(\"/content/sample_data/kddcup.names.txt\")\n",
        "text_df.show()"
      ],
      "metadata": {
        "colab": {
          "base_uri": "https://localhost:8080/"
        },
        "id": "KewY70XJOkjr",
        "outputId": "2682677a-cf1e-444d-85e9-9a8b9bf8bb7d"
      },
      "execution_count": null,
      "outputs": [
        {
          "output_type": "stream",
          "name": "stdout",
          "text": [
            "+--------------------+\n",
            "|               value|\n",
            "+--------------------+\n",
            "|back,buffer_overf...|\n",
            "|duration: continu...|\n",
            "|protocol_type: sy...|\n",
            "|  service: symbolic.|\n",
            "|     flag: symbolic.|\n",
            "|src_bytes: contin...|\n",
            "|dst_bytes: contin...|\n",
            "|     land: symbolic.|\n",
            "|wrong_fragment: c...|\n",
            "| urgent: continuous.|\n",
            "|    hot: continuous.|\n",
            "|num_failed_logins...|\n",
            "|logged_in: symbolic.|\n",
            "|num_compromised: ...|\n",
            "|root_shell: conti...|\n",
            "|su_attempted: con...|\n",
            "|num_root: continu...|\n",
            "|num_file_creation...|\n",
            "|num_shells: conti...|\n",
            "|num_access_files:...|\n",
            "+--------------------+\n",
            "only showing top 20 rows\n",
            "\n"
          ]
        }
      ]
    },
    {
      "cell_type": "code",
      "source": [
        "json_df=spark.read.json(\"/content/sample_data/anscombe.json\")\n",
        "json_df.show()"
      ],
      "metadata": {
        "colab": {
          "base_uri": "https://localhost:8080/"
        },
        "id": "onvBwz3HPqf_",
        "outputId": "5d21fbd4-0017-4bfc-b96c-f4f2a5db30bf"
      },
      "execution_count": null,
      "outputs": [
        {
          "output_type": "stream",
          "name": "stdout",
          "text": [
            "+------+----+-----+---------------+\n",
            "|Series|   X|    Y|_corrupt_record|\n",
            "+------+----+-----+---------------+\n",
            "|  NULL|NULL| NULL|              [|\n",
            "|     I|10.0| 8.04|           NULL|\n",
            "|     I| 8.0| 6.95|           NULL|\n",
            "|     I|13.0| 7.58|           NULL|\n",
            "|     I| 9.0| 8.81|           NULL|\n",
            "|     I|11.0| 8.33|           NULL|\n",
            "|     I|14.0| 9.96|           NULL|\n",
            "|     I| 6.0| 7.24|           NULL|\n",
            "|     I| 4.0| 4.26|           NULL|\n",
            "|     I|12.0|10.84|           NULL|\n",
            "|     I| 7.0| 4.81|           NULL|\n",
            "|     I| 5.0| 5.68|           NULL|\n",
            "|    II|10.0| 9.14|           NULL|\n",
            "|    II| 8.0| 8.14|           NULL|\n",
            "|    II|13.0| 8.74|           NULL|\n",
            "|    II| 9.0| 8.77|           NULL|\n",
            "|    II|11.0| 9.26|           NULL|\n",
            "|    II|14.0|  8.1|           NULL|\n",
            "|    II| 6.0| 6.13|           NULL|\n",
            "|    II| 4.0|  3.1|           NULL|\n",
            "+------+----+-----+---------------+\n",
            "only showing top 20 rows\n",
            "\n"
          ]
        }
      ]
    }
  ]
}